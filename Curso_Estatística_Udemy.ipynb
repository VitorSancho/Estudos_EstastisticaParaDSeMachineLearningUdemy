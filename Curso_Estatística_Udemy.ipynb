{
  "nbformat": 4,
  "nbformat_minor": 0,
  "metadata": {
    "colab": {
      "name": "Curso Estatística - Udemy.ipynb",
      "provenance": [],
      "collapsed_sections": [
        "3s9zlLUuXMLv",
        "Ief5eK_seXD_",
        "h-aEKrK2bNmF",
        "k0embmJ_gjPm",
        "hiaOhLw3x_m_",
        "5ZEBtJrgJf8z"
      ],
      "authorship_tag": "ABX9TyNN42JLMQFK5OhOvG7L2BRp",
      "include_colab_link": true
    },
    "kernelspec": {
      "name": "python3",
      "display_name": "Python 3"
    }
  },
  "cells": [
    {
      "cell_type": "markdown",
      "metadata": {
        "id": "view-in-github",
        "colab_type": "text"
      },
      "source": [
        "<a href=\"https://colab.research.google.com/github/VitorSancho/Estudos_EstatisticaParaDSeMLUdemy/blob/main/Curso_Estat%C3%ADstica_Udemy.ipynb\" target=\"_parent\"><img src=\"https://colab.research.google.com/assets/colab-badge.svg\" alt=\"Open In Colab\"/></a>"
      ]
    },
    {
      "cell_type": "markdown",
      "metadata": {
        "id": "JaDnGGb3yL20"
      },
      "source": [
        "# Seção 3 - Dados Absolutos e Relativos\r\n",
        "\r\n",
        "\r\n"
      ]
    },
    {
      "cell_type": "code",
      "metadata": {
        "id": "r1Ykmwp2yRiZ"
      },
      "source": [
        "import pandas as pd\r\n",
        "from google.colab import drive\r\n",
        "import numpy as np"
      ],
      "execution_count": 1,
      "outputs": []
    },
    {
      "cell_type": "markdown",
      "metadata": {
        "id": "0kwGWQWQyUvh"
      },
      "source": [
        "## Pencentuais"
      ]
    },
    {
      "cell_type": "code",
      "metadata": {
        "id": "syn4jnowyTrK"
      },
      "source": [
        "dados={'emprego':['Adm_banco_de_dados','Programador','Arquiteto'],\r\n",
        "       'nova_jersey':[97350,82080,112840],\r\n",
        "       'florida':[77140,71540,62310]}\r\n",
        "\r\n",
        "dataset=pd.DataFrame(dados)       "
      ],
      "execution_count": 2,
      "outputs": []
    },
    {
      "cell_type": "code",
      "metadata": {
        "colab": {
          "base_uri": "https://localhost:8080/",
          "height": 137
        },
        "id": "Z9VgFl47y4eT",
        "outputId": "20996c55-f843-4556-9952-9fef566507a6"
      },
      "source": [
        "dataset['%_florida']=round((dataset.florida/dataset.florida.sum())*100,2)\r\n",
        "dataset['%_nova_jersey']=round((dataset.nova_jersey/dataset.nova_jersey.sum())*100,2)\r\n",
        "dataset"
      ],
      "execution_count": 3,
      "outputs": [
        {
          "output_type": "execute_result",
          "data": {
            "text/html": [
              "<div>\n",
              "<style scoped>\n",
              "    .dataframe tbody tr th:only-of-type {\n",
              "        vertical-align: middle;\n",
              "    }\n",
              "\n",
              "    .dataframe tbody tr th {\n",
              "        vertical-align: top;\n",
              "    }\n",
              "\n",
              "    .dataframe thead th {\n",
              "        text-align: right;\n",
              "    }\n",
              "</style>\n",
              "<table border=\"1\" class=\"dataframe\">\n",
              "  <thead>\n",
              "    <tr style=\"text-align: right;\">\n",
              "      <th></th>\n",
              "      <th>emprego</th>\n",
              "      <th>nova_jersey</th>\n",
              "      <th>florida</th>\n",
              "      <th>%_florida</th>\n",
              "      <th>%_nova_jersey</th>\n",
              "    </tr>\n",
              "  </thead>\n",
              "  <tbody>\n",
              "    <tr>\n",
              "      <th>0</th>\n",
              "      <td>Adm_banco_de_dados</td>\n",
              "      <td>97350</td>\n",
              "      <td>77140</td>\n",
              "      <td>36.56</td>\n",
              "      <td>33.31</td>\n",
              "    </tr>\n",
              "    <tr>\n",
              "      <th>1</th>\n",
              "      <td>Programador</td>\n",
              "      <td>82080</td>\n",
              "      <td>71540</td>\n",
              "      <td>33.91</td>\n",
              "      <td>28.08</td>\n",
              "    </tr>\n",
              "    <tr>\n",
              "      <th>2</th>\n",
              "      <td>Arquiteto</td>\n",
              "      <td>112840</td>\n",
              "      <td>62310</td>\n",
              "      <td>29.53</td>\n",
              "      <td>38.61</td>\n",
              "    </tr>\n",
              "  </tbody>\n",
              "</table>\n",
              "</div>"
            ],
            "text/plain": [
              "              emprego  nova_jersey  florida  %_florida  %_nova_jersey\n",
              "0  Adm_banco_de_dados        97350    77140      36.56          33.31\n",
              "1         Programador        82080    71540      33.91          28.08\n",
              "2           Arquiteto       112840    62310      29.53          38.61"
            ]
          },
          "metadata": {
            "tags": []
          },
          "execution_count": 3
        }
      ]
    },
    {
      "cell_type": "code",
      "metadata": {
        "id": "m0CxL0WVzAEi",
        "colab": {
          "base_uri": "https://localhost:8080/"
        },
        "outputId": "6bc31839-6c90-4a84-9806-1cc33affee20"
      },
      "source": [
        "drive.mount('/content/drive')\r\n",
        "census=pd.read_csv(\"/content/drive/My Drive/census.csv\")"
      ],
      "execution_count": 4,
      "outputs": [
        {
          "output_type": "stream",
          "text": [
            "Mounted at /content/drive\n"
          ],
          "name": "stdout"
        }
      ]
    },
    {
      "cell_type": "code",
      "metadata": {
        "colab": {
          "base_uri": "https://localhost:8080/",
          "height": 384
        },
        "id": "uecAUwiT9Wu9",
        "outputId": "cf5ef7d9-d7f0-452f-9af7-483fe58b3a0d"
      },
      "source": [
        "census.head()"
      ],
      "execution_count": 5,
      "outputs": [
        {
          "output_type": "execute_result",
          "data": {
            "text/html": [
              "<div>\n",
              "<style scoped>\n",
              "    .dataframe tbody tr th:only-of-type {\n",
              "        vertical-align: middle;\n",
              "    }\n",
              "\n",
              "    .dataframe tbody tr th {\n",
              "        vertical-align: top;\n",
              "    }\n",
              "\n",
              "    .dataframe thead th {\n",
              "        text-align: right;\n",
              "    }\n",
              "</style>\n",
              "<table border=\"1\" class=\"dataframe\">\n",
              "  <thead>\n",
              "    <tr style=\"text-align: right;\">\n",
              "      <th></th>\n",
              "      <th>age</th>\n",
              "      <th>workclass</th>\n",
              "      <th>final-weight</th>\n",
              "      <th>education</th>\n",
              "      <th>education-num</th>\n",
              "      <th>marital-status</th>\n",
              "      <th>occupation</th>\n",
              "      <th>relationship</th>\n",
              "      <th>race</th>\n",
              "      <th>sex</th>\n",
              "      <th>capital-gain</th>\n",
              "      <th>capital-loos</th>\n",
              "      <th>hour-per-week</th>\n",
              "      <th>native-country</th>\n",
              "      <th>income</th>\n",
              "    </tr>\n",
              "  </thead>\n",
              "  <tbody>\n",
              "    <tr>\n",
              "      <th>0</th>\n",
              "      <td>39</td>\n",
              "      <td>State-gov</td>\n",
              "      <td>77516</td>\n",
              "      <td>Bachelors</td>\n",
              "      <td>13</td>\n",
              "      <td>Never-married</td>\n",
              "      <td>Adm-clerical</td>\n",
              "      <td>Not-in-family</td>\n",
              "      <td>White</td>\n",
              "      <td>Male</td>\n",
              "      <td>2174</td>\n",
              "      <td>0</td>\n",
              "      <td>40</td>\n",
              "      <td>United-States</td>\n",
              "      <td>&lt;=50K</td>\n",
              "    </tr>\n",
              "    <tr>\n",
              "      <th>1</th>\n",
              "      <td>50</td>\n",
              "      <td>Self-emp-not-inc</td>\n",
              "      <td>83311</td>\n",
              "      <td>Bachelors</td>\n",
              "      <td>13</td>\n",
              "      <td>Married-civ-spouse</td>\n",
              "      <td>Exec-managerial</td>\n",
              "      <td>Husband</td>\n",
              "      <td>White</td>\n",
              "      <td>Male</td>\n",
              "      <td>0</td>\n",
              "      <td>0</td>\n",
              "      <td>13</td>\n",
              "      <td>United-States</td>\n",
              "      <td>&lt;=50K</td>\n",
              "    </tr>\n",
              "    <tr>\n",
              "      <th>2</th>\n",
              "      <td>38</td>\n",
              "      <td>Private</td>\n",
              "      <td>215646</td>\n",
              "      <td>HS-grad</td>\n",
              "      <td>9</td>\n",
              "      <td>Divorced</td>\n",
              "      <td>Handlers-cleaners</td>\n",
              "      <td>Not-in-family</td>\n",
              "      <td>White</td>\n",
              "      <td>Male</td>\n",
              "      <td>0</td>\n",
              "      <td>0</td>\n",
              "      <td>40</td>\n",
              "      <td>United-States</td>\n",
              "      <td>&lt;=50K</td>\n",
              "    </tr>\n",
              "    <tr>\n",
              "      <th>3</th>\n",
              "      <td>53</td>\n",
              "      <td>Private</td>\n",
              "      <td>234721</td>\n",
              "      <td>11th</td>\n",
              "      <td>7</td>\n",
              "      <td>Married-civ-spouse</td>\n",
              "      <td>Handlers-cleaners</td>\n",
              "      <td>Husband</td>\n",
              "      <td>Black</td>\n",
              "      <td>Male</td>\n",
              "      <td>0</td>\n",
              "      <td>0</td>\n",
              "      <td>40</td>\n",
              "      <td>United-States</td>\n",
              "      <td>&lt;=50K</td>\n",
              "    </tr>\n",
              "    <tr>\n",
              "      <th>4</th>\n",
              "      <td>28</td>\n",
              "      <td>Private</td>\n",
              "      <td>338409</td>\n",
              "      <td>Bachelors</td>\n",
              "      <td>13</td>\n",
              "      <td>Married-civ-spouse</td>\n",
              "      <td>Prof-specialty</td>\n",
              "      <td>Wife</td>\n",
              "      <td>Black</td>\n",
              "      <td>Female</td>\n",
              "      <td>0</td>\n",
              "      <td>0</td>\n",
              "      <td>40</td>\n",
              "      <td>Cuba</td>\n",
              "      <td>&lt;=50K</td>\n",
              "    </tr>\n",
              "  </tbody>\n",
              "</table>\n",
              "</div>"
            ],
            "text/plain": [
              "   age          workclass  final-weight  ... hour-per-week  native-country  income\n",
              "0   39          State-gov         77516  ...            40   United-States   <=50K\n",
              "1   50   Self-emp-not-inc         83311  ...            13   United-States   <=50K\n",
              "2   38            Private        215646  ...            40   United-States   <=50K\n",
              "3   53            Private        234721  ...            40   United-States   <=50K\n",
              "4   28            Private        338409  ...            40            Cuba   <=50K\n",
              "\n",
              "[5 rows x 15 columns]"
            ]
          },
          "metadata": {
            "tags": []
          },
          "execution_count": 5
        }
      ]
    },
    {
      "cell_type": "markdown",
      "metadata": {
        "id": "S2rEftto9gwQ"
      },
      "source": [
        "Criando tabela de frequencia para dados categóricos - variável qualitativa ordinal"
      ]
    },
    {
      "cell_type": "code",
      "metadata": {
        "id": "vYz311QJ1KHc"
      },
      "source": [
        "censo_educacao_renda=census[['education','income']]\r\n",
        "censo_agrupado=censo_educacao_renda.groupby(['education','income'])['education'].count()\r\n"
      ],
      "execution_count": 6,
      "outputs": []
    },
    {
      "cell_type": "code",
      "metadata": {
        "id": "EzInfhYc34na"
      },
      "source": [
        "bacharelado_menor_que_50K,bacharelado_maior_que_50K=censo_agrupado[' Bachelors',' <=50K'],censo_agrupado[' Bachelors',' >50K']"
      ],
      "execution_count": 7,
      "outputs": []
    },
    {
      "cell_type": "code",
      "metadata": {
        "colab": {
          "base_uri": "https://localhost:8080/"
        },
        "id": "4xMw61FA7j74",
        "outputId": "f8c27c67-1ddc-458c-85a4-8521155c9ff4"
      },
      "source": [
        "total_bachareis=bacharelado_menor_que_50K+bacharelado_maior_que_50K\r\n",
        "percent_maior_que50K=(round(bacharelado_maior_que_50K/total_bachareis,3))*100\r\n",
        "percent_menor_que50K=(round(bacharelado_menor_que_50K/total_bachareis,3))*100\r\n",
        "\r\n",
        "print(f'{percent_maior_que50K}% dos bachareis ganham mais de 50K anuais')\r\n",
        "print(f'{percent_menor_que50K}% dos bachareis ganham menos de 50K anuais')"
      ],
      "execution_count": 8,
      "outputs": [
        {
          "output_type": "stream",
          "text": [
            "41.5% dos bachareis ganham mais de 50K anuais\n",
            "58.5% dos bachareis ganham menos de 50K anuais\n"
          ],
          "name": "stdout"
        }
      ]
    },
    {
      "cell_type": "code",
      "metadata": {
        "id": "c2uLT-NY8X8n",
        "colab": {
          "base_uri": "https://localhost:8080/",
          "height": 214
        },
        "outputId": "5d2100fb-4599-4c9c-88f4-6670ba412155"
      },
      "source": [
        "dados={'Ano Graduação':['1°','2°','3°','4°','Total'],\r\n",
        "       'Matrículas março':[70,50,47,23,190],\r\n",
        "       'Matrículas novembro':[65,48,40,22,175]}\r\n",
        "\r\n",
        "tabela=pd.DataFrame(dados)\r\n",
        "tabela['Evasão']=tabela['Matrículas março']-tabela['Matrículas novembro']\r\n",
        "tabela['% Evasão']=round(tabela['Evasão']/tabela['Matrículas março'],3)\r\n",
        "tabela['evasão a cada 100 alunos']=np.floor(tabela['% Evasão']*100)\r\n",
        "tabela"
      ],
      "execution_count": 9,
      "outputs": [
        {
          "output_type": "execute_result",
          "data": {
            "text/html": [
              "<div>\n",
              "<style scoped>\n",
              "    .dataframe tbody tr th:only-of-type {\n",
              "        vertical-align: middle;\n",
              "    }\n",
              "\n",
              "    .dataframe tbody tr th {\n",
              "        vertical-align: top;\n",
              "    }\n",
              "\n",
              "    .dataframe thead th {\n",
              "        text-align: right;\n",
              "    }\n",
              "</style>\n",
              "<table border=\"1\" class=\"dataframe\">\n",
              "  <thead>\n",
              "    <tr style=\"text-align: right;\">\n",
              "      <th></th>\n",
              "      <th>Ano Graduação</th>\n",
              "      <th>Matrículas março</th>\n",
              "      <th>Matrículas novembro</th>\n",
              "      <th>Evasão</th>\n",
              "      <th>% Evasão</th>\n",
              "      <th>evasão a cada 100 alunos</th>\n",
              "    </tr>\n",
              "  </thead>\n",
              "  <tbody>\n",
              "    <tr>\n",
              "      <th>0</th>\n",
              "      <td>1°</td>\n",
              "      <td>70</td>\n",
              "      <td>65</td>\n",
              "      <td>5</td>\n",
              "      <td>0.071</td>\n",
              "      <td>7.0</td>\n",
              "    </tr>\n",
              "    <tr>\n",
              "      <th>1</th>\n",
              "      <td>2°</td>\n",
              "      <td>50</td>\n",
              "      <td>48</td>\n",
              "      <td>2</td>\n",
              "      <td>0.040</td>\n",
              "      <td>4.0</td>\n",
              "    </tr>\n",
              "    <tr>\n",
              "      <th>2</th>\n",
              "      <td>3°</td>\n",
              "      <td>47</td>\n",
              "      <td>40</td>\n",
              "      <td>7</td>\n",
              "      <td>0.149</td>\n",
              "      <td>14.0</td>\n",
              "    </tr>\n",
              "    <tr>\n",
              "      <th>3</th>\n",
              "      <td>4°</td>\n",
              "      <td>23</td>\n",
              "      <td>22</td>\n",
              "      <td>1</td>\n",
              "      <td>0.043</td>\n",
              "      <td>4.0</td>\n",
              "    </tr>\n",
              "    <tr>\n",
              "      <th>4</th>\n",
              "      <td>Total</td>\n",
              "      <td>190</td>\n",
              "      <td>175</td>\n",
              "      <td>15</td>\n",
              "      <td>0.079</td>\n",
              "      <td>7.0</td>\n",
              "    </tr>\n",
              "  </tbody>\n",
              "</table>\n",
              "</div>"
            ],
            "text/plain": [
              "  Ano Graduação  Matrículas março  ...  % Evasão  evasão a cada 100 alunos\n",
              "0            1°                70  ...     0.071                       7.0\n",
              "1            2°                50  ...     0.040                       4.0\n",
              "2            3°                47  ...     0.149                      14.0\n",
              "3            4°                23  ...     0.043                       4.0\n",
              "4         Total               190  ...     0.079                       7.0\n",
              "\n",
              "[5 rows x 6 columns]"
            ]
          },
          "metadata": {
            "tags": []
          },
          "execution_count": 9
        }
      ]
    },
    {
      "cell_type": "markdown",
      "metadata": {
        "id": "qV1nGB9TtMdk"
      },
      "source": [
        "# Seção 4 - Distribuição de frequência"
      ]
    },
    {
      "cell_type": "code",
      "metadata": {
        "id": "2d_XtTc-bGCj"
      },
      "source": [
        "import matplotlib.pyplot as plt\r\n",
        "import seaborn as sns\r\n",
        "import math"
      ],
      "execution_count": 10,
      "outputs": []
    },
    {
      "cell_type": "code",
      "metadata": {
        "id": "fafQACSoxvZl"
      },
      "source": [
        "dados=np.array([160,165,167,164,166,160,161,150,152,173,160,155,\r\n",
        "                164,168,162,161,168,163,156,155,169,151,170,164,155,\r\n",
        "                152,163,160,155,157,156,158,158,161,154,161,156,172,153])"
      ],
      "execution_count": 11,
      "outputs": []
    },
    {
      "cell_type": "code",
      "metadata": {
        "colab": {
          "base_uri": "https://localhost:8080/"
        },
        "id": "dO5G3VANyQ5G",
        "outputId": "57639680-4d78-4a25-8642-6f13bb010d88"
      },
      "source": [
        "dados=np.sort(dados)\r\n",
        "dados"
      ],
      "execution_count": 12,
      "outputs": [
        {
          "output_type": "execute_result",
          "data": {
            "text/plain": [
              "array([150, 151, 152, 152, 153, 154, 155, 155, 155, 155, 156, 156, 156,\n",
              "       157, 158, 158, 160, 160, 160, 160, 161, 161, 161, 161, 162, 163,\n",
              "       163, 164, 164, 164, 165, 166, 167, 168, 168, 169, 170, 172, 173])"
            ]
          },
          "metadata": {
            "tags": []
          },
          "execution_count": 12
        }
      ]
    },
    {
      "cell_type": "code",
      "metadata": {
        "id": "Od6oXud5yrtH"
      },
      "source": [
        "minimo=dados.min()\r\n",
        "maximo=dados.max()"
      ],
      "execution_count": 13,
      "outputs": []
    },
    {
      "cell_type": "code",
      "metadata": {
        "colab": {
          "base_uri": "https://localhost:8080/"
        },
        "id": "4EOlVH3RyV82",
        "outputId": "a1ac1dd6-b820-49b6-ef9a-2fb4f346d6bc"
      },
      "source": [
        "np.unique(dados,return_counts=True)"
      ],
      "execution_count": 14,
      "outputs": [
        {
          "output_type": "execute_result",
          "data": {
            "text/plain": [
              "(array([150, 151, 152, 153, 154, 155, 156, 157, 158, 160, 161, 162, 163,\n",
              "        164, 165, 166, 167, 168, 169, 170, 172, 173]),\n",
              " array([1, 1, 2, 1, 1, 4, 3, 1, 2, 4, 4, 1, 2, 3, 1, 1, 1, 2, 1, 1, 1, 1]))"
            ]
          },
          "metadata": {
            "tags": []
          },
          "execution_count": 14
        }
      ]
    },
    {
      "cell_type": "code",
      "metadata": {
        "colab": {
          "base_uri": "https://localhost:8080/"
        },
        "id": "kOkh74B7y2c7",
        "outputId": "5c88e1b1-8795-49aa-d45e-cce6c7f0db28"
      },
      "source": [
        "n=len(dados)\r\n",
        "n"
      ],
      "execution_count": 15,
      "outputs": [
        {
          "output_type": "execute_result",
          "data": {
            "text/plain": [
              "39"
            ]
          },
          "metadata": {
            "tags": []
          },
          "execution_count": 15
        }
      ]
    },
    {
      "cell_type": "code",
      "metadata": {
        "id": "yiLIilVrzXzv",
        "colab": {
          "base_uri": "https://localhost:8080/"
        },
        "outputId": "e71e686d-2b49-4e2c-80be-ad664365d873"
      },
      "source": [
        "i=round(1+3.3*np.log10(n))\r\n",
        "i"
      ],
      "execution_count": 16,
      "outputs": [
        {
          "output_type": "execute_result",
          "data": {
            "text/plain": [
              "6"
            ]
          },
          "metadata": {
            "tags": []
          },
          "execution_count": 16
        }
      ]
    },
    {
      "cell_type": "code",
      "metadata": {
        "id": "CZki5tbEzepw",
        "colab": {
          "base_uri": "https://localhost:8080/"
        },
        "outputId": "81bd2a3a-7d72-4ed7-948e-335bafa21b5a"
      },
      "source": [
        "Amplitute_geral=maximo-minimo\r\n",
        "Amplitute_geral"
      ],
      "execution_count": 17,
      "outputs": [
        {
          "output_type": "execute_result",
          "data": {
            "text/plain": [
              "23"
            ]
          },
          "metadata": {
            "tags": []
          },
          "execution_count": 17
        }
      ]
    },
    {
      "cell_type": "code",
      "metadata": {
        "id": "oJhKxfafzn3A"
      },
      "source": [
        "h=math.ceil(Amplitute_geral/i)"
      ],
      "execution_count": 18,
      "outputs": []
    },
    {
      "cell_type": "markdown",
      "metadata": {
        "id": "JnRxD4owz1Hd"
      },
      "source": [
        "## Construção da distribuição de frequência "
      ]
    },
    {
      "cell_type": "code",
      "metadata": {
        "colab": {
          "base_uri": "https://localhost:8080/"
        },
        "id": "BKmFGHWAzxy_",
        "outputId": "0c35e11e-0c06-4109-b432-dfc6758fbe8e"
      },
      "source": [
        "intervalos=np.arange(minimo,maximo+2,step=h)\r\n",
        "intervalos\r\n"
      ],
      "execution_count": 19,
      "outputs": [
        {
          "output_type": "execute_result",
          "data": {
            "text/plain": [
              "array([150, 154, 158, 162, 166, 170, 174])"
            ]
          },
          "metadata": {
            "tags": []
          },
          "execution_count": 19
        }
      ]
    },
    {
      "cell_type": "code",
      "metadata": {
        "colab": {
          "base_uri": "https://localhost:8080/"
        },
        "id": "lOng-w5Z0sel",
        "outputId": "e5de4900-97b8-4d45-a44b-c61acf0a5bc3"
      },
      "source": [
        "faixa_de_valores=[0,0,0,0,0,0]\r\n",
        "\r\n",
        "for i in range(n):\r\n",
        "  valor=dados[i]\r\n",
        "\r\n",
        "  \r\n",
        "  # print(valor)\r\n",
        "  for j in range(len(intervalos)):\r\n",
        "    # print(faixa)\r\n",
        "    # print(j)\r\n",
        "    if valor>=intervalos[j] and valor<intervalos[j+1]:\r\n",
        "      # print(\"sim\")\r\n",
        "      faixa_de_valores[j]=faixa_de_valores[j]+1\r\n",
        "          \r\n",
        "      continue\r\n",
        "faixa_de_valores"
      ],
      "execution_count": 20,
      "outputs": [
        {
          "output_type": "execute_result",
          "data": {
            "text/plain": [
              "[5, 9, 10, 7, 5, 3]"
            ]
          },
          "metadata": {
            "tags": []
          },
          "execution_count": 20
        }
      ]
    },
    {
      "cell_type": "code",
      "metadata": {
        "colab": {
          "base_uri": "https://localhost:8080/"
        },
        "id": "U6S6VGg75XXM",
        "outputId": "bfd410ea-00bd-455f-e4da-b967bde15148"
      },
      "source": [
        "lista_classes=[]\r\n",
        "\r\n",
        "for i in range(len(faixa_de_valores)):\r\n",
        "  lista_classes.append(str(intervalos[i]) + \"-|\" + str(intervalos[i+1]))\r\n",
        "\r\n",
        "lista_classes  "
      ],
      "execution_count": 21,
      "outputs": [
        {
          "output_type": "execute_result",
          "data": {
            "text/plain": [
              "['150-|154', '154-|158', '158-|162', '162-|166', '166-|170', '170-|174']"
            ]
          },
          "metadata": {
            "tags": []
          },
          "execution_count": 21
        }
      ]
    },
    {
      "cell_type": "code",
      "metadata": {
        "colab": {
          "base_uri": "https://localhost:8080/",
          "height": 313
        },
        "id": "2EpevER_BHbx",
        "outputId": "48d17365-282f-4832-d576-64b720afba86"
      },
      "source": [
        "plt.bar(lista_classes,faixa_de_valores)\r\n",
        "plt.title('Distribuição de frequência - histograma')\r\n",
        "plt.xlabel('intervalos')\r\n",
        "plt.ylabel('frequência')"
      ],
      "execution_count": 22,
      "outputs": [
        {
          "output_type": "execute_result",
          "data": {
            "text/plain": [
              "Text(0, 0.5, 'frequência')"
            ]
          },
          "metadata": {
            "tags": []
          },
          "execution_count": 22
        },
        {
          "output_type": "display_data",
          "data": {
            "image/png": "[encoded data removed]",
            "text/plain": [
              "<Figure size 432x288 with 1 Axes>"
            ]
          },
          "metadata": {
            "tags": [],
            "needs_background": "light"
          }
        }
      ]
    },
    {
      "cell_type": "markdown",
      "metadata": {
        "id": "EAuGM7rVvYcf"
      },
      "source": [
        "### Distribuição de frequência e histograma com numpy e matplotlib"
      ]
    },
    {
      "cell_type": "code",
      "metadata": {
        "id": "_r1SReUxBc-C"
      },
      "source": [
        "dados=np.array([160,165,167,164,166,160,161,150,152,173,160,155,\r\n",
        "                164,168,162,161,168,163,156,155,169,151,170,164,155,\r\n",
        "                152,163,160,155,157,156,158,158,161,154,161,156,172,153])"
      ],
      "execution_count": 23,
      "outputs": []
    },
    {
      "cell_type": "code",
      "metadata": {
        "colab": {
          "base_uri": "https://localhost:8080/"
        },
        "id": "lC19V5o3vf-d",
        "outputId": "5dd693d2-7032-4169-ef9f-eddee74a58c2"
      },
      "source": [
        "frequencia,classes=np.histogram(dados,bins=i,range=(minimo,maximo+1))\r\n",
        "\r\n",
        "print(faixa_de_valores)\r\n",
        "frequencia,classes\r\n"
      ],
      "execution_count": 24,
      "outputs": [
        {
          "output_type": "stream",
          "text": [
            "[5, 9, 10, 7, 5, 3]\n"
          ],
          "name": "stdout"
        },
        {
          "output_type": "execute_result",
          "data": {
            "text/plain": [
              "(array([ 6, 10, 14,  6,  3]),\n",
              " array([150. , 154.8, 159.6, 164.4, 169.2, 174. ]))"
            ]
          },
          "metadata": {
            "tags": []
          },
          "execution_count": 24
        }
      ]
    },
    {
      "cell_type": "code",
      "metadata": {
        "colab": {
          "base_uri": "https://localhost:8080/",
          "height": 317
        },
        "id": "1hBfDREdvjHw",
        "outputId": "e7a31e75-a3b5-464f-9d35-cac0302999cc"
      },
      "source": [
        "plt.hist(dados,bins=classes)"
      ],
      "execution_count": 25,
      "outputs": [
        {
          "output_type": "execute_result",
          "data": {
            "text/plain": [
              "(array([ 6., 10., 14.,  6.,  3.]),\n",
              " array([150. , 154.8, 159.6, 164.4, 169.2, 174. ]),\n",
              " <a list of 5 Patch objects>)"
            ]
          },
          "metadata": {
            "tags": []
          },
          "execution_count": 25
        },
        {
          "output_type": "display_data",
          "data": {
            "image/png": "[encoded data removed]",
            "text/plain": [
              "<Figure size 432x288 with 1 Axes>"
            ]
          },
          "metadata": {
            "tags": [],
            "needs_background": "light"
          }
        }
      ]
    },
    {
      "cell_type": "markdown",
      "metadata": {
        "id": "i5aJLEe9zazg"
      },
      "source": [
        "### Distribuição de frequência e histogramas com pandas e seaborn"
      ]
    },
    {
      "cell_type": "code",
      "metadata": {
        "colab": {
          "base_uri": "https://localhost:8080/",
          "height": 197
        },
        "id": "PVa14UC0wnyu",
        "outputId": "00b4a254-9449-44c3-8af4-1138c6868e10"
      },
      "source": [
        "dataset=pd.DataFrame({'dados':dados})\r\n",
        "dataset.head()"
      ],
      "execution_count": 26,
      "outputs": [
        {
          "output_type": "execute_result",
          "data": {
            "text/html": [
              "<div>\n",
              "<style scoped>\n",
              "    .dataframe tbody tr th:only-of-type {\n",
              "        vertical-align: middle;\n",
              "    }\n",
              "\n",
              "    .dataframe tbody tr th {\n",
              "        vertical-align: top;\n",
              "    }\n",
              "\n",
              "    .dataframe thead th {\n",
              "        text-align: right;\n",
              "    }\n",
              "</style>\n",
              "<table border=\"1\" class=\"dataframe\">\n",
              "  <thead>\n",
              "    <tr style=\"text-align: right;\">\n",
              "      <th></th>\n",
              "      <th>dados</th>\n",
              "    </tr>\n",
              "  </thead>\n",
              "  <tbody>\n",
              "    <tr>\n",
              "      <th>0</th>\n",
              "      <td>160</td>\n",
              "    </tr>\n",
              "    <tr>\n",
              "      <th>1</th>\n",
              "      <td>165</td>\n",
              "    </tr>\n",
              "    <tr>\n",
              "      <th>2</th>\n",
              "      <td>167</td>\n",
              "    </tr>\n",
              "    <tr>\n",
              "      <th>3</th>\n",
              "      <td>164</td>\n",
              "    </tr>\n",
              "    <tr>\n",
              "      <th>4</th>\n",
              "      <td>166</td>\n",
              "    </tr>\n",
              "  </tbody>\n",
              "</table>\n",
              "</div>"
            ],
            "text/plain": [
              "   dados\n",
              "0    160\n",
              "1    165\n",
              "2    167\n",
              "3    164\n",
              "4    166"
            ]
          },
          "metadata": {
            "tags": []
          },
          "execution_count": 26
        }
      ]
    },
    {
      "cell_type": "code",
      "metadata": {
        "colab": {
          "base_uri": "https://localhost:8080/",
          "height": 264
        },
        "id": "h_IwRqdiz2PW",
        "outputId": "5688381e-f0f1-4bf8-eca3-8159e4b2fa6c"
      },
      "source": [
        "dataset.plot.hist();"
      ],
      "execution_count": 27,
      "outputs": [
        {
          "output_type": "display_data",
          "data": {
            "image/png": "[encoded data removed]",
            "text/plain": [
              "<Figure size 432x288 with 1 Axes>"
            ]
          },
          "metadata": {
            "tags": [],
            "needs_background": "light"
          }
        }
      ]
    },
    {
      "cell_type": "code",
      "metadata": {
        "colab": {
          "base_uri": "https://localhost:8080/",
          "height": 320
        },
        "id": "Af4P2oUJz9Mp",
        "outputId": "b5d9aeba-4bbb-4d2b-977d-04be87a76679"
      },
      "source": [
        "sns.distplot(dados,hist=True,kde=False);"
      ],
      "execution_count": 28,
      "outputs": [
        {
          "output_type": "stream",
          "text": [
            "/usr/local/lib/python3.7/dist-packages/seaborn/distributions.py:2557: FutureWarning: `distplot` is a deprecated function and will be removed in a future version. Please adapt your code to use either `displot` (a figure-level function with similar flexibility) or `histplot` (an axes-level function for histograms).\n",
            "  warnings.warn(msg, FutureWarning)\n"
          ],
          "name": "stderr"
        },
        {
          "output_type": "display_data",
          "data": {
            "image/png": "[encoded data removed]",
            "text/plain": [
              "<Figure size 432x288 with 1 Axes>"
            ]
          },
          "metadata": {
            "tags": [],
            "needs_background": "light"
          }
        }
      ]
    },
    {
      "cell_type": "code",
      "metadata": {
        "id": "0KMh0Ah30I70"
      },
      "source": [
        "# idades=census['age']\r\n",
        "# idades=pd.DataFrame(agrupados)\r\n",
        "# menor_idade=idades.min()\r\n",
        "# maior_idade=idades.max()\r\n",
        "\r\n",
        "# frequencia,classes=np.histogram(idades,bins=10,range=(menor_idade[0],maior_idade[0]))\r\n",
        "# # frequencia,classes\r\n",
        "\r\n",
        "# sns.histplot(idades,kde=False,bins=classes)\r\n",
        "\r\n"
      ],
      "execution_count": 29,
      "outputs": []
    },
    {
      "cell_type": "markdown",
      "metadata": {
        "id": "7QChhEGK530m"
      },
      "source": [
        "### Como fatiar dataset de acordo com lista que é passada como bins"
      ]
    },
    {
      "cell_type": "code",
      "metadata": {
        "id": "1znFUsg_0Z4Y"
      },
      "source": [
        "census['age']=pd.cut(census['age'],bins=[0,17,25,40,60,90],\r\n",
        "                      labels=['Faixa1','Faixa2','Faixa3','Faixa4','Faixa5'])"
      ],
      "execution_count": 30,
      "outputs": []
    },
    {
      "cell_type": "code",
      "metadata": {
        "id": "kawzHxTd6Y2T",
        "colab": {
          "base_uri": "https://localhost:8080/",
          "height": 384
        },
        "outputId": "eec00202-aa62-4da7-abba-ed993fdc63f5"
      },
      "source": [
        "census.head()"
      ],
      "execution_count": 31,
      "outputs": [
        {
          "output_type": "execute_result",
          "data": {
            "text/html": [
              "<div>\n",
              "<style scoped>\n",
              "    .dataframe tbody tr th:only-of-type {\n",
              "        vertical-align: middle;\n",
              "    }\n",
              "\n",
              "    .dataframe tbody tr th {\n",
              "        vertical-align: top;\n",
              "    }\n",
              "\n",
              "    .dataframe thead th {\n",
              "        text-align: right;\n",
              "    }\n",
              "</style>\n",
              "<table border=\"1\" class=\"dataframe\">\n",
              "  <thead>\n",
              "    <tr style=\"text-align: right;\">\n",
              "      <th></th>\n",
              "      <th>age</th>\n",
              "      <th>workclass</th>\n",
              "      <th>final-weight</th>\n",
              "      <th>education</th>\n",
              "      <th>education-num</th>\n",
              "      <th>marital-status</th>\n",
              "      <th>occupation</th>\n",
              "      <th>relationship</th>\n",
              "      <th>race</th>\n",
              "      <th>sex</th>\n",
              "      <th>capital-gain</th>\n",
              "      <th>capital-loos</th>\n",
              "      <th>hour-per-week</th>\n",
              "      <th>native-country</th>\n",
              "      <th>income</th>\n",
              "    </tr>\n",
              "  </thead>\n",
              "  <tbody>\n",
              "    <tr>\n",
              "      <th>0</th>\n",
              "      <td>Faixa3</td>\n",
              "      <td>State-gov</td>\n",
              "      <td>77516</td>\n",
              "      <td>Bachelors</td>\n",
              "      <td>13</td>\n",
              "      <td>Never-married</td>\n",
              "      <td>Adm-clerical</td>\n",
              "      <td>Not-in-family</td>\n",
              "      <td>White</td>\n",
              "      <td>Male</td>\n",
              "      <td>2174</td>\n",
              "      <td>0</td>\n",
              "      <td>40</td>\n",
              "      <td>United-States</td>\n",
              "      <td>&lt;=50K</td>\n",
              "    </tr>\n",
              "    <tr>\n",
              "      <th>1</th>\n",
              "      <td>Faixa4</td>\n",
              "      <td>Self-emp-not-inc</td>\n",
              "      <td>83311</td>\n",
              "      <td>Bachelors</td>\n",
              "      <td>13</td>\n",
              "      <td>Married-civ-spouse</td>\n",
              "      <td>Exec-managerial</td>\n",
              "      <td>Husband</td>\n",
              "      <td>White</td>\n",
              "      <td>Male</td>\n",
              "      <td>0</td>\n",
              "      <td>0</td>\n",
              "      <td>13</td>\n",
              "      <td>United-States</td>\n",
              "      <td>&lt;=50K</td>\n",
              "    </tr>\n",
              "    <tr>\n",
              "      <th>2</th>\n",
              "      <td>Faixa3</td>\n",
              "      <td>Private</td>\n",
              "      <td>215646</td>\n",
              "      <td>HS-grad</td>\n",
              "      <td>9</td>\n",
              "      <td>Divorced</td>\n",
              "      <td>Handlers-cleaners</td>\n",
              "      <td>Not-in-family</td>\n",
              "      <td>White</td>\n",
              "      <td>Male</td>\n",
              "      <td>0</td>\n",
              "      <td>0</td>\n",
              "      <td>40</td>\n",
              "      <td>United-States</td>\n",
              "      <td>&lt;=50K</td>\n",
              "    </tr>\n",
              "    <tr>\n",
              "      <th>3</th>\n",
              "      <td>Faixa4</td>\n",
              "      <td>Private</td>\n",
              "      <td>234721</td>\n",
              "      <td>11th</td>\n",
              "      <td>7</td>\n",
              "      <td>Married-civ-spouse</td>\n",
              "      <td>Handlers-cleaners</td>\n",
              "      <td>Husband</td>\n",
              "      <td>Black</td>\n",
              "      <td>Male</td>\n",
              "      <td>0</td>\n",
              "      <td>0</td>\n",
              "      <td>40</td>\n",
              "      <td>United-States</td>\n",
              "      <td>&lt;=50K</td>\n",
              "    </tr>\n",
              "    <tr>\n",
              "      <th>4</th>\n",
              "      <td>Faixa3</td>\n",
              "      <td>Private</td>\n",
              "      <td>338409</td>\n",
              "      <td>Bachelors</td>\n",
              "      <td>13</td>\n",
              "      <td>Married-civ-spouse</td>\n",
              "      <td>Prof-specialty</td>\n",
              "      <td>Wife</td>\n",
              "      <td>Black</td>\n",
              "      <td>Female</td>\n",
              "      <td>0</td>\n",
              "      <td>0</td>\n",
              "      <td>40</td>\n",
              "      <td>Cuba</td>\n",
              "      <td>&lt;=50K</td>\n",
              "    </tr>\n",
              "  </tbody>\n",
              "</table>\n",
              "</div>"
            ],
            "text/plain": [
              "      age          workclass  ...  native-country  income\n",
              "0  Faixa3          State-gov  ...   United-States   <=50K\n",
              "1  Faixa4   Self-emp-not-inc  ...   United-States   <=50K\n",
              "2  Faixa3            Private  ...   United-States   <=50K\n",
              "3  Faixa4            Private  ...   United-States   <=50K\n",
              "4  Faixa3            Private  ...            Cuba   <=50K\n",
              "\n",
              "[5 rows x 15 columns]"
            ]
          },
          "metadata": {
            "tags": []
          },
          "execution_count": 31
        }
      ]
    },
    {
      "cell_type": "markdown",
      "metadata": {
        "id": "uj3h-bvR9-5D"
      },
      "source": [
        "## Regras de associação de acordo com distribuição de frequência"
      ]
    },
    {
      "cell_type": "markdown",
      "metadata": {
        "id": "S_wn8wPS-e6D"
      },
      "source": [
        "Para construir regras de associação a entrada de dados deve conter dados categóricos"
      ]
    },
    {
      "cell_type": "code",
      "metadata": {
        "id": "x-ixcUNu6nR8",
        "colab": {
          "base_uri": "https://localhost:8080/",
          "height": 384
        },
        "outputId": "b94871cc-6b0f-424b-a3f8-ba7ddbc0e277"
      },
      "source": [
        "census.head()"
      ],
      "execution_count": 32,
      "outputs": [
        {
          "output_type": "execute_result",
          "data": {
            "text/html": [
              "<div>\n",
              "<style scoped>\n",
              "    .dataframe tbody tr th:only-of-type {\n",
              "        vertical-align: middle;\n",
              "    }\n",
              "\n",
              "    .dataframe tbody tr th {\n",
              "        vertical-align: top;\n",
              "    }\n",
              "\n",
              "    .dataframe thead th {\n",
              "        text-align: right;\n",
              "    }\n",
              "</style>\n",
              "<table border=\"1\" class=\"dataframe\">\n",
              "  <thead>\n",
              "    <tr style=\"text-align: right;\">\n",
              "      <th></th>\n",
              "      <th>age</th>\n",
              "      <th>workclass</th>\n",
              "      <th>final-weight</th>\n",
              "      <th>education</th>\n",
              "      <th>education-num</th>\n",
              "      <th>marital-status</th>\n",
              "      <th>occupation</th>\n",
              "      <th>relationship</th>\n",
              "      <th>race</th>\n",
              "      <th>sex</th>\n",
              "      <th>capital-gain</th>\n",
              "      <th>capital-loos</th>\n",
              "      <th>hour-per-week</th>\n",
              "      <th>native-country</th>\n",
              "      <th>income</th>\n",
              "    </tr>\n",
              "  </thead>\n",
              "  <tbody>\n",
              "    <tr>\n",
              "      <th>0</th>\n",
              "      <td>Faixa3</td>\n",
              "      <td>State-gov</td>\n",
              "      <td>77516</td>\n",
              "      <td>Bachelors</td>\n",
              "      <td>13</td>\n",
              "      <td>Never-married</td>\n",
              "      <td>Adm-clerical</td>\n",
              "      <td>Not-in-family</td>\n",
              "      <td>White</td>\n",
              "      <td>Male</td>\n",
              "      <td>2174</td>\n",
              "      <td>0</td>\n",
              "      <td>40</td>\n",
              "      <td>United-States</td>\n",
              "      <td>&lt;=50K</td>\n",
              "    </tr>\n",
              "    <tr>\n",
              "      <th>1</th>\n",
              "      <td>Faixa4</td>\n",
              "      <td>Self-emp-not-inc</td>\n",
              "      <td>83311</td>\n",
              "      <td>Bachelors</td>\n",
              "      <td>13</td>\n",
              "      <td>Married-civ-spouse</td>\n",
              "      <td>Exec-managerial</td>\n",
              "      <td>Husband</td>\n",
              "      <td>White</td>\n",
              "      <td>Male</td>\n",
              "      <td>0</td>\n",
              "      <td>0</td>\n",
              "      <td>13</td>\n",
              "      <td>United-States</td>\n",
              "      <td>&lt;=50K</td>\n",
              "    </tr>\n",
              "    <tr>\n",
              "      <th>2</th>\n",
              "      <td>Faixa3</td>\n",
              "      <td>Private</td>\n",
              "      <td>215646</td>\n",
              "      <td>HS-grad</td>\n",
              "      <td>9</td>\n",
              "      <td>Divorced</td>\n",
              "      <td>Handlers-cleaners</td>\n",
              "      <td>Not-in-family</td>\n",
              "      <td>White</td>\n",
              "      <td>Male</td>\n",
              "      <td>0</td>\n",
              "      <td>0</td>\n",
              "      <td>40</td>\n",
              "      <td>United-States</td>\n",
              "      <td>&lt;=50K</td>\n",
              "    </tr>\n",
              "    <tr>\n",
              "      <th>3</th>\n",
              "      <td>Faixa4</td>\n",
              "      <td>Private</td>\n",
              "      <td>234721</td>\n",
              "      <td>11th</td>\n",
              "      <td>7</td>\n",
              "      <td>Married-civ-spouse</td>\n",
              "      <td>Handlers-cleaners</td>\n",
              "      <td>Husband</td>\n",
              "      <td>Black</td>\n",
              "      <td>Male</td>\n",
              "      <td>0</td>\n",
              "      <td>0</td>\n",
              "      <td>40</td>\n",
              "      <td>United-States</td>\n",
              "      <td>&lt;=50K</td>\n",
              "    </tr>\n",
              "    <tr>\n",
              "      <th>4</th>\n",
              "      <td>Faixa3</td>\n",
              "      <td>Private</td>\n",
              "      <td>338409</td>\n",
              "      <td>Bachelors</td>\n",
              "      <td>13</td>\n",
              "      <td>Married-civ-spouse</td>\n",
              "      <td>Prof-specialty</td>\n",
              "      <td>Wife</td>\n",
              "      <td>Black</td>\n",
              "      <td>Female</td>\n",
              "      <td>0</td>\n",
              "      <td>0</td>\n",
              "      <td>40</td>\n",
              "      <td>Cuba</td>\n",
              "      <td>&lt;=50K</td>\n",
              "    </tr>\n",
              "  </tbody>\n",
              "</table>\n",
              "</div>"
            ],
            "text/plain": [
              "      age          workclass  ...  native-country  income\n",
              "0  Faixa3          State-gov  ...   United-States   <=50K\n",
              "1  Faixa4   Self-emp-not-inc  ...   United-States   <=50K\n",
              "2  Faixa3            Private  ...   United-States   <=50K\n",
              "3  Faixa4            Private  ...   United-States   <=50K\n",
              "4  Faixa3            Private  ...            Cuba   <=50K\n",
              "\n",
              "[5 rows x 15 columns]"
            ]
          },
          "metadata": {
            "tags": []
          },
          "execution_count": 32
        }
      ]
    },
    {
      "cell_type": "code",
      "metadata": {
        "id": "fmVl4g1S-XjZ",
        "colab": {
          "base_uri": "https://localhost:8080/",
          "height": 367
        },
        "outputId": "d237a418-310d-46d1-8905-159f104666fd"
      },
      "source": [
        "dataset_apriori=census[['age','workclass','education', 'marital-status',\r\n",
        "                         'relationship','occupation','sex','native-country','income']]\r\n",
        "dataset_apriori.head()"
      ],
      "execution_count": 33,
      "outputs": [
        {
          "output_type": "execute_result",
          "data": {
            "text/html": [
              "<div>\n",
              "<style scoped>\n",
              "    .dataframe tbody tr th:only-of-type {\n",
              "        vertical-align: middle;\n",
              "    }\n",
              "\n",
              "    .dataframe tbody tr th {\n",
              "        vertical-align: top;\n",
              "    }\n",
              "\n",
              "    .dataframe thead th {\n",
              "        text-align: right;\n",
              "    }\n",
              "</style>\n",
              "<table border=\"1\" class=\"dataframe\">\n",
              "  <thead>\n",
              "    <tr style=\"text-align: right;\">\n",
              "      <th></th>\n",
              "      <th>age</th>\n",
              "      <th>workclass</th>\n",
              "      <th>education</th>\n",
              "      <th>marital-status</th>\n",
              "      <th>relationship</th>\n",
              "      <th>occupation</th>\n",
              "      <th>sex</th>\n",
              "      <th>native-country</th>\n",
              "      <th>income</th>\n",
              "    </tr>\n",
              "  </thead>\n",
              "  <tbody>\n",
              "    <tr>\n",
              "      <th>0</th>\n",
              "      <td>Faixa3</td>\n",
              "      <td>State-gov</td>\n",
              "      <td>Bachelors</td>\n",
              "      <td>Never-married</td>\n",
              "      <td>Not-in-family</td>\n",
              "      <td>Adm-clerical</td>\n",
              "      <td>Male</td>\n",
              "      <td>United-States</td>\n",
              "      <td>&lt;=50K</td>\n",
              "    </tr>\n",
              "    <tr>\n",
              "      <th>1</th>\n",
              "      <td>Faixa4</td>\n",
              "      <td>Self-emp-not-inc</td>\n",
              "      <td>Bachelors</td>\n",
              "      <td>Married-civ-spouse</td>\n",
              "      <td>Husband</td>\n",
              "      <td>Exec-managerial</td>\n",
              "      <td>Male</td>\n",
              "      <td>United-States</td>\n",
              "      <td>&lt;=50K</td>\n",
              "    </tr>\n",
              "    <tr>\n",
              "      <th>2</th>\n",
              "      <td>Faixa3</td>\n",
              "      <td>Private</td>\n",
              "      <td>HS-grad</td>\n",
              "      <td>Divorced</td>\n",
              "      <td>Not-in-family</td>\n",
              "      <td>Handlers-cleaners</td>\n",
              "      <td>Male</td>\n",
              "      <td>United-States</td>\n",
              "      <td>&lt;=50K</td>\n",
              "    </tr>\n",
              "    <tr>\n",
              "      <th>3</th>\n",
              "      <td>Faixa4</td>\n",
              "      <td>Private</td>\n",
              "      <td>11th</td>\n",
              "      <td>Married-civ-spouse</td>\n",
              "      <td>Husband</td>\n",
              "      <td>Handlers-cleaners</td>\n",
              "      <td>Male</td>\n",
              "      <td>United-States</td>\n",
              "      <td>&lt;=50K</td>\n",
              "    </tr>\n",
              "    <tr>\n",
              "      <th>4</th>\n",
              "      <td>Faixa3</td>\n",
              "      <td>Private</td>\n",
              "      <td>Bachelors</td>\n",
              "      <td>Married-civ-spouse</td>\n",
              "      <td>Wife</td>\n",
              "      <td>Prof-specialty</td>\n",
              "      <td>Female</td>\n",
              "      <td>Cuba</td>\n",
              "      <td>&lt;=50K</td>\n",
              "    </tr>\n",
              "  </tbody>\n",
              "</table>\n",
              "</div>"
            ],
            "text/plain": [
              "      age          workclass   education  ...      sex  native-country  income\n",
              "0  Faixa3          State-gov   Bachelors  ...     Male   United-States   <=50K\n",
              "1  Faixa4   Self-emp-not-inc   Bachelors  ...     Male   United-States   <=50K\n",
              "2  Faixa3            Private     HS-grad  ...     Male   United-States   <=50K\n",
              "3  Faixa4            Private        11th  ...     Male   United-States   <=50K\n",
              "4  Faixa3            Private   Bachelors  ...   Female            Cuba   <=50K\n",
              "\n",
              "[5 rows x 9 columns]"
            ]
          },
          "metadata": {
            "tags": []
          },
          "execution_count": 33
        }
      ]
    },
    {
      "cell_type": "code",
      "metadata": {
        "id": "oUbg77-g_MsC"
      },
      "source": [
        "amostra_dataset_apriori=dataset_apriori.sample(n=1000)"
      ],
      "execution_count": 34,
      "outputs": []
    },
    {
      "cell_type": "markdown",
      "metadata": {
        "id": "td9apnRFACDt"
      },
      "source": [
        "Para a utilização da biblioteca que realiza as regras de associação, é necessário transformar os dados em listas"
      ]
    },
    {
      "cell_type": "code",
      "metadata": {
        "id": "Dj0QLqOd_2nH"
      },
      "source": [
        "transacoes=[]\r\n",
        "\r\n",
        "for i in range(amostra_dataset_apriori.shape[0]):\r\n",
        "    transacoes.append([str(amostra_dataset_apriori.values[i,j]) for j in range(amostra_dataset_apriori.shape[1])])"
      ],
      "execution_count": 35,
      "outputs": []
    },
    {
      "cell_type": "code",
      "metadata": {
        "id": "qMUZQVvPBBrG",
        "colab": {
          "base_uri": "https://localhost:8080/"
        },
        "outputId": "97fbaac5-dcd1-4bbf-b789-dfcb572735d5"
      },
      "source": [
        "transacoes[:2]"
      ],
      "execution_count": 36,
      "outputs": [
        {
          "output_type": "execute_result",
          "data": {
            "text/plain": [
              "[['Faixa5',\n",
              "  ' Self-emp-not-inc',\n",
              "  ' Some-college',\n",
              "  ' Married-civ-spouse',\n",
              "  ' Husband',\n",
              "  ' Sales',\n",
              "  ' Male',\n",
              "  ' United-States',\n",
              "  ' <=50K'],\n",
              " ['Faixa5',\n",
              "  ' ?',\n",
              "  ' HS-grad',\n",
              "  ' Married-civ-spouse',\n",
              "  ' Husband',\n",
              "  ' ?',\n",
              "  ' Male',\n",
              "  ' United-States',\n",
              "  ' <=50K']]"
            ]
          },
          "metadata": {
            "tags": []
          },
          "execution_count": 36
        }
      ]
    },
    {
      "cell_type": "code",
      "metadata": {
        "id": "UmnlB6mkBOq4",
        "colab": {
          "base_uri": "https://localhost:8080/"
        },
        "outputId": "8d614305-6d56-46b3-eda7-dd85e675fe1e"
      },
      "source": [
        "!pip install apyori"
      ],
      "execution_count": 37,
      "outputs": [
        {
          "output_type": "stream",
          "text": [
            "Collecting apyori\n",
            "  Downloading https://files.pythonhosted.org/packages/5e/62/5ffde5c473ea4b033490617ec5caa80d59804875ad3c3c57c0976533a21a/apyori-1.1.2.tar.gz\n",
            "Building wheels for collected packages: apyori\n",
            "  Building wheel for apyori (setup.py) ... \u001b[?25l\u001b[?25hdone\n",
            "  Created wheel for apyori: filename=apyori-1.1.2-cp37-none-any.whl size=5975 sha256=555099ab57947664ccfb28f6641bedfb59d58391a635a898917e1221d006ce4f\n",
            "  Stored in directory: /root/.cache/pip/wheels/5d/92/bb/474bbadbc8c0062b9eb168f69982a0443263f8ab1711a8cad0\n",
            "Successfully built apyori\n",
            "Installing collected packages: apyori\n",
            "Successfully installed apyori-1.1.2\n"
          ],
          "name": "stdout"
        }
      ]
    },
    {
      "cell_type": "code",
      "metadata": {
        "id": "agfAXlzfCKOm"
      },
      "source": [
        "from apyori import apriori"
      ],
      "execution_count": 38,
      "outputs": []
    },
    {
      "cell_type": "markdown",
      "metadata": {
        "id": "0EOOmFAaDDqB"
      },
      "source": [
        "min_suport-->estipula um valor mínimo de frequência relativa que um atributo deve ter para que seja considerado na atribuição das regras"
      ]
    },
    {
      "cell_type": "markdown",
      "metadata": {
        "id": "Yf4JorDxDRMZ"
      },
      "source": [
        "________________________________________________________________________________\r\n",
        "min_confidence-->define o valor minimo de asociação entre dois atributos para que seja considerado na atribuição da regra"
      ]
    },
    {
      "cell_type": "code",
      "metadata": {
        "id": "nd-gMJsECOQm"
      },
      "source": [
        "regras=apriori(transacoes,min_suport=0.3,min_confidence=0.2)\r\n",
        "resultados=list(regras)"
      ],
      "execution_count": 39,
      "outputs": []
    },
    {
      "cell_type": "code",
      "metadata": {
        "id": "LZcVFUdkCX1F",
        "colab": {
          "base_uri": "https://localhost:8080/"
        },
        "outputId": "2104bb26-46e2-4f68-93eb-133de53f2d7f"
      },
      "source": [
        "resultados[12]"
      ],
      "execution_count": 40,
      "outputs": [
        {
          "output_type": "execute_result",
          "data": {
            "text/plain": [
              "RelationRecord(items=frozenset({'Faixa3'}), support=0.374, ordered_statistics=[OrderedStatistic(items_base=frozenset(), items_add=frozenset({'Faixa3'}), confidence=0.374, lift=1.0)])"
            ]
          },
          "metadata": {
            "tags": []
          },
          "execution_count": 40
        }
      ]
    },
    {
      "cell_type": "markdown",
      "metadata": {
        "id": "WLwrh8QbmrAM"
      },
      "source": [
        "# Seção 5 - Medidas de posição e dispersão"
      ]
    },
    {
      "cell_type": "code",
      "metadata": {
        "id": "zAFFQmHVCn1Q"
      },
      "source": [
        "dados=np.array([160,165,167,164,166,160,161,150,152,173,160,155,\r\n",
        "                164,168,162,161,168,163,156,155,169,151,170,164,155,\r\n",
        "                152,163,160,155,157,156,158,158,161,154,161,156,172,153])"
      ],
      "execution_count": 41,
      "outputs": []
    },
    {
      "cell_type": "code",
      "metadata": {
        "id": "RtI_RTc3Txqr"
      },
      "source": [
        "import numpy as np\r\n",
        "import statistics\r\n",
        "from scipy import stats\r\n",
        "import math"
      ],
      "execution_count": 42,
      "outputs": []
    },
    {
      "cell_type": "markdown",
      "metadata": {
        "id": "9pmz53-fUW1K"
      },
      "source": [
        "Média"
      ]
    },
    {
      "cell_type": "code",
      "metadata": {
        "colab": {
          "base_uri": "https://localhost:8080/"
        },
        "id": "cOy5eKqhUWeR",
        "outputId": "719dbf41-0463-4d69-c122-d2bbd7f517f2"
      },
      "source": [
        "statistics.mean(dados)"
      ],
      "execution_count": 43,
      "outputs": [
        {
          "output_type": "execute_result",
          "data": {
            "text/plain": [
              "160"
            ]
          },
          "metadata": {
            "tags": []
          },
          "execution_count": 43
        }
      ]
    },
    {
      "cell_type": "markdown",
      "metadata": {
        "id": "IYkhWGyXUd7v"
      },
      "source": [
        "Moda"
      ]
    },
    {
      "cell_type": "code",
      "metadata": {
        "colab": {
          "base_uri": "https://localhost:8080/"
        },
        "id": "wPIBvhdxUNwm",
        "outputId": "960209b3-cf60-428a-dc98-c09416400202"
      },
      "source": [
        "stats.mode(dados)[0][0]"
      ],
      "execution_count": 44,
      "outputs": [
        {
          "output_type": "execute_result",
          "data": {
            "text/plain": [
              "155"
            ]
          },
          "metadata": {
            "tags": []
          },
          "execution_count": 44
        }
      ]
    },
    {
      "cell_type": "markdown",
      "metadata": {
        "id": "zzxWtqJYVkTa"
      },
      "source": [
        "Mediana"
      ]
    },
    {
      "cell_type": "code",
      "metadata": {
        "colab": {
          "base_uri": "https://localhost:8080/"
        },
        "id": "JLvQ7N0ZVkDx",
        "outputId": "11c8f23f-a434-4d5d-bf5c-0acbf1ad1832"
      },
      "source": [
        "statistics.median(dados)"
      ],
      "execution_count": 45,
      "outputs": [
        {
          "output_type": "execute_result",
          "data": {
            "text/plain": [
              "160"
            ]
          },
          "metadata": {
            "tags": []
          },
          "execution_count": 45
        }
      ]
    },
    {
      "cell_type": "code",
      "metadata": {
        "colab": {
          "base_uri": "https://localhost:8080/"
        },
        "id": "qK_5cN2-UiYQ",
        "outputId": "8064a040-3951-4d66-bf0e-81edcb65847f"
      },
      "source": [
        "np.median(dados)"
      ],
      "execution_count": 46,
      "outputs": [
        {
          "output_type": "execute_result",
          "data": {
            "text/plain": [
              "160.0"
            ]
          },
          "metadata": {
            "tags": []
          },
          "execution_count": 46
        }
      ]
    },
    {
      "cell_type": "markdown",
      "metadata": {
        "id": "3iBSfTAQV82s"
      },
      "source": [
        "Média ponderada"
      ]
    },
    {
      "cell_type": "code",
      "metadata": {
        "colab": {
          "base_uri": "https://localhost:8080/"
        },
        "id": "4I_K5gjJV3b4",
        "outputId": "21ff2966-392b-4a5c-9bb3-43d184b6af65"
      },
      "source": [
        "notas=np.array([9,8,7,3])\r\n",
        "pesos=np.array([1,2,3,4])\r\n",
        "\r\n",
        "np.average(notas,weights=pesos)"
      ],
      "execution_count": 47,
      "outputs": [
        {
          "output_type": "execute_result",
          "data": {
            "text/plain": [
              "5.8"
            ]
          },
          "metadata": {
            "tags": []
          },
          "execution_count": 47
        }
      ]
    },
    {
      "cell_type": "markdown",
      "metadata": {
        "id": "3s9zlLUuXMLv"
      },
      "source": [
        "### Média, Moda e Mediana para distribuição de frequência - dados grupados\r\n",
        "\r\n"
      ]
    },
    {
      "cell_type": "code",
      "metadata": {
        "id": "LJLlT75rWsSO"
      },
      "source": [
        "dados={'inferior':[150,154,158,162,166,170],\r\n",
        "       'superior':[154,158,162,166,170,174],\r\n",
        "       'fi':[5,9,11,7,5,3]}\r\n",
        "\r\n",
        "dados_agrupados=pd.DataFrame(dados)\r\n",
        "dados_agrupados['xi']=(dados_agrupados['inferior']+dados_agrupados['superior'])/2\r\n",
        "dados_agrupados['fi.xi']=dados_agrupados['fi']*dados_agrupados['xi']\r\n",
        "\r\n",
        "acumulado=0\r\n",
        "valores_acumulados=[]\r\n",
        "for linha in dados_agrupados.iterrows():\r\n",
        "  acumulado+=linha[1][2]\r\n",
        "  valores_acumulados.append(acumulado)\r\n",
        "\r\n",
        "dados_agrupados['Fi']=valores_acumulados"
      ],
      "execution_count": 48,
      "outputs": []
    },
    {
      "cell_type": "code",
      "metadata": {
        "colab": {
          "base_uri": "https://localhost:8080/",
          "height": 0
        },
        "id": "-QIr_vPCZ5dG",
        "outputId": "8dff34b8-bf3c-4674-ee8f-de2e82698bc6"
      },
      "source": [
        "dados_agrupados"
      ],
      "execution_count": 49,
      "outputs": [
        {
          "output_type": "execute_result",
          "data": {
            "text/html": [
              "<div>\n",
              "<style scoped>\n",
              "    .dataframe tbody tr th:only-of-type {\n",
              "        vertical-align: middle;\n",
              "    }\n",
              "\n",
              "    .dataframe tbody tr th {\n",
              "        vertical-align: top;\n",
              "    }\n",
              "\n",
              "    .dataframe thead th {\n",
              "        text-align: right;\n",
              "    }\n",
              "</style>\n",
              "<table border=\"1\" class=\"dataframe\">\n",
              "  <thead>\n",
              "    <tr style=\"text-align: right;\">\n",
              "      <th></th>\n",
              "      <th>inferior</th>\n",
              "      <th>superior</th>\n",
              "      <th>fi</th>\n",
              "      <th>xi</th>\n",
              "      <th>fi.xi</th>\n",
              "      <th>Fi</th>\n",
              "    </tr>\n",
              "  </thead>\n",
              "  <tbody>\n",
              "    <tr>\n",
              "      <th>0</th>\n",
              "      <td>150</td>\n",
              "      <td>154</td>\n",
              "      <td>5</td>\n",
              "      <td>152.0</td>\n",
              "      <td>760.0</td>\n",
              "      <td>5.0</td>\n",
              "    </tr>\n",
              "    <tr>\n",
              "      <th>1</th>\n",
              "      <td>154</td>\n",
              "      <td>158</td>\n",
              "      <td>9</td>\n",
              "      <td>156.0</td>\n",
              "      <td>1404.0</td>\n",
              "      <td>14.0</td>\n",
              "    </tr>\n",
              "    <tr>\n",
              "      <th>2</th>\n",
              "      <td>158</td>\n",
              "      <td>162</td>\n",
              "      <td>11</td>\n",
              "      <td>160.0</td>\n",
              "      <td>1760.0</td>\n",
              "      <td>25.0</td>\n",
              "    </tr>\n",
              "    <tr>\n",
              "      <th>3</th>\n",
              "      <td>162</td>\n",
              "      <td>166</td>\n",
              "      <td>7</td>\n",
              "      <td>164.0</td>\n",
              "      <td>1148.0</td>\n",
              "      <td>32.0</td>\n",
              "    </tr>\n",
              "    <tr>\n",
              "      <th>4</th>\n",
              "      <td>166</td>\n",
              "      <td>170</td>\n",
              "      <td>5</td>\n",
              "      <td>168.0</td>\n",
              "      <td>840.0</td>\n",
              "      <td>37.0</td>\n",
              "    </tr>\n",
              "    <tr>\n",
              "      <th>5</th>\n",
              "      <td>170</td>\n",
              "      <td>174</td>\n",
              "      <td>3</td>\n",
              "      <td>172.0</td>\n",
              "      <td>516.0</td>\n",
              "      <td>40.0</td>\n",
              "    </tr>\n",
              "  </tbody>\n",
              "</table>\n",
              "</div>"
            ],
            "text/plain": [
              "   inferior  superior  fi     xi   fi.xi    Fi\n",
              "0       150       154   5  152.0   760.0   5.0\n",
              "1       154       158   9  156.0  1404.0  14.0\n",
              "2       158       162  11  160.0  1760.0  25.0\n",
              "3       162       166   7  164.0  1148.0  32.0\n",
              "4       166       170   5  168.0   840.0  37.0\n",
              "5       170       174   3  172.0   516.0  40.0"
            ]
          },
          "metadata": {
            "tags": []
          },
          "execution_count": 49
        }
      ]
    },
    {
      "cell_type": "markdown",
      "metadata": {
        "id": "Ief5eK_seXD_"
      },
      "source": [
        "### Medidas Separatrizes"
      ]
    },
    {
      "cell_type": "code",
      "metadata": {
        "id": "NgUgwPm6aMBD"
      },
      "source": [
        "dados_impar=[150,151,152,152,153,154,155,155,155]"
      ],
      "execution_count": 50,
      "outputs": []
    },
    {
      "cell_type": "code",
      "metadata": {
        "colab": {
          "base_uri": "https://localhost:8080/"
        },
        "id": "J8Ad3zR0e9nW",
        "outputId": "d8b09548-dca2-4887-b5b2-0b6da3c77401"
      },
      "source": [
        "np.quantile(dados_impar,[0.25,0.5,0.75])\r\n",
        "# np.quantile(dados_impar ,0.5)\r\n",
        "# np.quantile(dados_impar ,0.75)"
      ],
      "execution_count": 51,
      "outputs": [
        {
          "output_type": "execute_result",
          "data": {
            "text/plain": [
              "array([152., 153., 155.])"
            ]
          },
          "metadata": {
            "tags": []
          },
          "execution_count": 51
        }
      ]
    },
    {
      "cell_type": "code",
      "metadata": {
        "colab": {
          "base_uri": "https://localhost:8080/"
        },
        "id": "BdZFZm3qfbxO",
        "outputId": "7377d163-93f9-41a0-bfb8-1367e0a19bce"
      },
      "source": [
        "stats.scoreatpercentile(dados_impar,[25,50,75])"
      ],
      "execution_count": 52,
      "outputs": [
        {
          "output_type": "execute_result",
          "data": {
            "text/plain": [
              "array([152., 153., 155.])"
            ]
          },
          "metadata": {
            "tags": []
          },
          "execution_count": 52
        }
      ]
    },
    {
      "cell_type": "code",
      "metadata": {
        "colab": {
          "base_uri": "https://localhost:8080/",
          "height": 0
        },
        "id": "E38Gf4XVf7-O",
        "outputId": "b6a11ff9-dc61-4ba9-acb0-fa7b122f29fb"
      },
      "source": [
        "quartis_dados_impar=pd.DataFrame(dados_impar).quantile([0.25,0.5,0.75])\r\n",
        "quartis_dados_impar"
      ],
      "execution_count": 53,
      "outputs": [
        {
          "output_type": "execute_result",
          "data": {
            "text/html": [
              "<div>\n",
              "<style scoped>\n",
              "    .dataframe tbody tr th:only-of-type {\n",
              "        vertical-align: middle;\n",
              "    }\n",
              "\n",
              "    .dataframe tbody tr th {\n",
              "        vertical-align: top;\n",
              "    }\n",
              "\n",
              "    .dataframe thead th {\n",
              "        text-align: right;\n",
              "    }\n",
              "</style>\n",
              "<table border=\"1\" class=\"dataframe\">\n",
              "  <thead>\n",
              "    <tr style=\"text-align: right;\">\n",
              "      <th></th>\n",
              "      <th>0</th>\n",
              "    </tr>\n",
              "  </thead>\n",
              "  <tbody>\n",
              "    <tr>\n",
              "      <th>0.25</th>\n",
              "      <td>152.0</td>\n",
              "    </tr>\n",
              "    <tr>\n",
              "      <th>0.50</th>\n",
              "      <td>153.0</td>\n",
              "    </tr>\n",
              "    <tr>\n",
              "      <th>0.75</th>\n",
              "      <td>155.0</td>\n",
              "    </tr>\n",
              "  </tbody>\n",
              "</table>\n",
              "</div>"
            ],
            "text/plain": [
              "          0\n",
              "0.25  152.0\n",
              "0.50  153.0\n",
              "0.75  155.0"
            ]
          },
          "metadata": {
            "tags": []
          },
          "execution_count": 53
        }
      ]
    },
    {
      "cell_type": "markdown",
      "metadata": {
        "id": "Xy3kU7i-bLFj"
      },
      "source": [
        ""
      ]
    },
    {
      "cell_type": "code",
      "metadata": {
        "colab": {
          "base_uri": "https://localhost:8080/",
          "height": 0
        },
        "id": "eClwb0o9gPXo",
        "outputId": "c0974299-c0cc-46ac-8968-d03799d7a9c9"
      },
      "source": [
        "quartis_dados_impar=pd.DataFrame(dados_impar)\r\n",
        "quartis_dados_impar.describe()"
      ],
      "execution_count": 54,
      "outputs": [
        {
          "output_type": "execute_result",
          "data": {
            "text/html": [
              "<div>\n",
              "<style scoped>\n",
              "    .dataframe tbody tr th:only-of-type {\n",
              "        vertical-align: middle;\n",
              "    }\n",
              "\n",
              "    .dataframe tbody tr th {\n",
              "        vertical-align: top;\n",
              "    }\n",
              "\n",
              "    .dataframe thead th {\n",
              "        text-align: right;\n",
              "    }\n",
              "</style>\n",
              "<table border=\"1\" class=\"dataframe\">\n",
              "  <thead>\n",
              "    <tr style=\"text-align: right;\">\n",
              "      <th></th>\n",
              "      <th>0</th>\n",
              "    </tr>\n",
              "  </thead>\n",
              "  <tbody>\n",
              "    <tr>\n",
              "      <th>count</th>\n",
              "      <td>9.000000</td>\n",
              "    </tr>\n",
              "    <tr>\n",
              "      <th>mean</th>\n",
              "      <td>153.000000</td>\n",
              "    </tr>\n",
              "    <tr>\n",
              "      <th>std</th>\n",
              "      <td>1.870829</td>\n",
              "    </tr>\n",
              "    <tr>\n",
              "      <th>min</th>\n",
              "      <td>150.000000</td>\n",
              "    </tr>\n",
              "    <tr>\n",
              "      <th>25%</th>\n",
              "      <td>152.000000</td>\n",
              "    </tr>\n",
              "    <tr>\n",
              "      <th>50%</th>\n",
              "      <td>153.000000</td>\n",
              "    </tr>\n",
              "    <tr>\n",
              "      <th>75%</th>\n",
              "      <td>155.000000</td>\n",
              "    </tr>\n",
              "    <tr>\n",
              "      <th>max</th>\n",
              "      <td>155.000000</td>\n",
              "    </tr>\n",
              "  </tbody>\n",
              "</table>\n",
              "</div>"
            ],
            "text/plain": [
              "                0\n",
              "count    9.000000\n",
              "mean   153.000000\n",
              "std      1.870829\n",
              "min    150.000000\n",
              "25%    152.000000\n",
              "50%    153.000000\n",
              "75%    155.000000\n",
              "max    155.000000"
            ]
          },
          "metadata": {
            "tags": []
          },
          "execution_count": 54
        }
      ]
    },
    {
      "cell_type": "markdown",
      "metadata": {
        "id": "h-aEKrK2bNmF"
      },
      "source": [
        "## Medidas de dispersão"
      ]
    },
    {
      "cell_type": "code",
      "metadata": {
        "id": "rvzo9DDwbP_6"
      },
      "source": [
        "dados=np.array([160,165,167,164,166,160,161,150,152,173,160,155,\r\n",
        "                164,168,162,161,168,163,156,155,169,151,170,164,155,\r\n",
        "                152,163,160,155,157,156,158,158,161,154,161,156,172,153])"
      ],
      "execution_count": 55,
      "outputs": []
    },
    {
      "cell_type": "code",
      "metadata": {
        "colab": {
          "base_uri": "https://localhost:8080/"
        },
        "id": "Z2jtn0TYbQ5b",
        "outputId": "31f44bbb-f0bf-461c-ca3b-2f541d654ae8"
      },
      "source": [
        "stats.variation(dados)"
      ],
      "execution_count": 56,
      "outputs": [
        {
          "output_type": "execute_result",
          "data": {
            "text/plain": [
              "0.03680879396517965"
            ]
          },
          "metadata": {
            "tags": []
          },
          "execution_count": 56
        }
      ]
    },
    {
      "cell_type": "markdown",
      "metadata": {
        "id": "NRuRvaPecS3-"
      },
      "source": [
        "desvio padrão para dados agupados"
      ]
    },
    {
      "cell_type": "code",
      "metadata": {
        "colab": {
          "base_uri": "https://localhost:8080/"
        },
        "id": "LjqSNTtSbdar",
        "outputId": "f519052e-6529-4919-ade4-351125a4b07c"
      },
      "source": [
        "dados_agrupados['xi_2']=dados_agrupados['xi']**2\r\n",
        "dados_agrupados['fi_xi2']=dados_agrupados['xi_2']*dados_agrupados['fi']\r\n",
        "\r\n",
        "num1=dados_agrupados['fi_xi2'].sum()\r\n",
        "num2=dados_agrupados['fi.xi'].sum()\r\n",
        "num2=math.pow(num2,2)\r\n",
        "\r\n",
        "den1=dados_agrupados['fi'].sum()\r\n",
        "den2=den1**2\r\n",
        "\r\n",
        "dp=((num1/den1)-(num2/den2))**0.5\r\n",
        "dp"
      ],
      "execution_count": 57,
      "outputs": [
        {
          "output_type": "execute_result",
          "data": {
            "text/plain": [
              "5.719265687131446"
            ]
          },
          "metadata": {
            "tags": []
          },
          "execution_count": 57
        }
      ]
    },
    {
      "cell_type": "code",
      "metadata": {
        "colab": {
          "base_uri": "https://localhost:8080/",
          "height": 227
        },
        "id": "BIynQQ0QeBKy",
        "outputId": "945fbe34-b64a-4bbf-c176-6527db84a390"
      },
      "source": [
        "dados_agrupados\r\n"
      ],
      "execution_count": 58,
      "outputs": [
        {
          "output_type": "execute_result",
          "data": {
            "text/html": [
              "<div>\n",
              "<style scoped>\n",
              "    .dataframe tbody tr th:only-of-type {\n",
              "        vertical-align: middle;\n",
              "    }\n",
              "\n",
              "    .dataframe tbody tr th {\n",
              "        vertical-align: top;\n",
              "    }\n",
              "\n",
              "    .dataframe thead th {\n",
              "        text-align: right;\n",
              "    }\n",
              "</style>\n",
              "<table border=\"1\" class=\"dataframe\">\n",
              "  <thead>\n",
              "    <tr style=\"text-align: right;\">\n",
              "      <th></th>\n",
              "      <th>inferior</th>\n",
              "      <th>superior</th>\n",
              "      <th>fi</th>\n",
              "      <th>xi</th>\n",
              "      <th>fi.xi</th>\n",
              "      <th>Fi</th>\n",
              "      <th>xi_2</th>\n",
              "      <th>fi_xi2</th>\n",
              "    </tr>\n",
              "  </thead>\n",
              "  <tbody>\n",
              "    <tr>\n",
              "      <th>0</th>\n",
              "      <td>150</td>\n",
              "      <td>154</td>\n",
              "      <td>5</td>\n",
              "      <td>152.0</td>\n",
              "      <td>760.0</td>\n",
              "      <td>5.0</td>\n",
              "      <td>23104.0</td>\n",
              "      <td>115520.0</td>\n",
              "    </tr>\n",
              "    <tr>\n",
              "      <th>1</th>\n",
              "      <td>154</td>\n",
              "      <td>158</td>\n",
              "      <td>9</td>\n",
              "      <td>156.0</td>\n",
              "      <td>1404.0</td>\n",
              "      <td>14.0</td>\n",
              "      <td>24336.0</td>\n",
              "      <td>219024.0</td>\n",
              "    </tr>\n",
              "    <tr>\n",
              "      <th>2</th>\n",
              "      <td>158</td>\n",
              "      <td>162</td>\n",
              "      <td>11</td>\n",
              "      <td>160.0</td>\n",
              "      <td>1760.0</td>\n",
              "      <td>25.0</td>\n",
              "      <td>25600.0</td>\n",
              "      <td>281600.0</td>\n",
              "    </tr>\n",
              "    <tr>\n",
              "      <th>3</th>\n",
              "      <td>162</td>\n",
              "      <td>166</td>\n",
              "      <td>7</td>\n",
              "      <td>164.0</td>\n",
              "      <td>1148.0</td>\n",
              "      <td>32.0</td>\n",
              "      <td>26896.0</td>\n",
              "      <td>188272.0</td>\n",
              "    </tr>\n",
              "    <tr>\n",
              "      <th>4</th>\n",
              "      <td>166</td>\n",
              "      <td>170</td>\n",
              "      <td>5</td>\n",
              "      <td>168.0</td>\n",
              "      <td>840.0</td>\n",
              "      <td>37.0</td>\n",
              "      <td>28224.0</td>\n",
              "      <td>141120.0</td>\n",
              "    </tr>\n",
              "    <tr>\n",
              "      <th>5</th>\n",
              "      <td>170</td>\n",
              "      <td>174</td>\n",
              "      <td>3</td>\n",
              "      <td>172.0</td>\n",
              "      <td>516.0</td>\n",
              "      <td>40.0</td>\n",
              "      <td>29584.0</td>\n",
              "      <td>88752.0</td>\n",
              "    </tr>\n",
              "  </tbody>\n",
              "</table>\n",
              "</div>"
            ],
            "text/plain": [
              "   inferior  superior  fi     xi   fi.xi    Fi     xi_2    fi_xi2\n",
              "0       150       154   5  152.0   760.0   5.0  23104.0  115520.0\n",
              "1       154       158   9  156.0  1404.0  14.0  24336.0  219024.0\n",
              "2       158       162  11  160.0  1760.0  25.0  25600.0  281600.0\n",
              "3       162       166   7  164.0  1148.0  32.0  26896.0  188272.0\n",
              "4       166       170   5  168.0   840.0  37.0  28224.0  141120.0\n",
              "5       170       174   3  172.0   516.0  40.0  29584.0   88752.0"
            ]
          },
          "metadata": {
            "tags": []
          },
          "execution_count": 58
        }
      ]
    },
    {
      "cell_type": "markdown",
      "metadata": {
        "id": "k0embmJ_gjPm"
      },
      "source": [
        "## Testes com algoritmos de classificação\r\n"
      ]
    },
    {
      "cell_type": "code",
      "metadata": {
        "id": "fxq0MOZ6f0gS"
      },
      "source": [
        "dataset_classificacao=pd.read_csv('/content/drive/My Drive/credit_data.csv')"
      ],
      "execution_count": 59,
      "outputs": []
    },
    {
      "cell_type": "code",
      "metadata": {
        "id": "dkDtVO9Jl_If"
      },
      "source": [
        "dataset_classificacao.dropna(inplace=True)"
      ],
      "execution_count": 60,
      "outputs": []
    },
    {
      "cell_type": "code",
      "metadata": {
        "colab": {
          "base_uri": "https://localhost:8080/",
          "height": 197
        },
        "id": "WJUCnbXcmZAd",
        "outputId": "9f5f3e7b-51ca-4dad-fc94-0adb526c9f25"
      },
      "source": [
        "dataset_classificacao.head()"
      ],
      "execution_count": 61,
      "outputs": [
        {
          "output_type": "execute_result",
          "data": {
            "text/html": [
              "<div>\n",
              "<style scoped>\n",
              "    .dataframe tbody tr th:only-of-type {\n",
              "        vertical-align: middle;\n",
              "    }\n",
              "\n",
              "    .dataframe tbody tr th {\n",
              "        vertical-align: top;\n",
              "    }\n",
              "\n",
              "    .dataframe thead th {\n",
              "        text-align: right;\n",
              "    }\n",
              "</style>\n",
              "<table border=\"1\" class=\"dataframe\">\n",
              "  <thead>\n",
              "    <tr style=\"text-align: right;\">\n",
              "      <th></th>\n",
              "      <th>i#clientid</th>\n",
              "      <th>income</th>\n",
              "      <th>age</th>\n",
              "      <th>loan</th>\n",
              "      <th>c#default</th>\n",
              "    </tr>\n",
              "  </thead>\n",
              "  <tbody>\n",
              "    <tr>\n",
              "      <th>0</th>\n",
              "      <td>1</td>\n",
              "      <td>66155.925095</td>\n",
              "      <td>59.017015</td>\n",
              "      <td>8106.532131</td>\n",
              "      <td>0</td>\n",
              "    </tr>\n",
              "    <tr>\n",
              "      <th>1</th>\n",
              "      <td>2</td>\n",
              "      <td>34415.153966</td>\n",
              "      <td>48.117153</td>\n",
              "      <td>6564.745018</td>\n",
              "      <td>0</td>\n",
              "    </tr>\n",
              "    <tr>\n",
              "      <th>2</th>\n",
              "      <td>3</td>\n",
              "      <td>57317.170063</td>\n",
              "      <td>63.108049</td>\n",
              "      <td>8020.953296</td>\n",
              "      <td>0</td>\n",
              "    </tr>\n",
              "    <tr>\n",
              "      <th>3</th>\n",
              "      <td>4</td>\n",
              "      <td>42709.534201</td>\n",
              "      <td>45.751972</td>\n",
              "      <td>6103.642260</td>\n",
              "      <td>0</td>\n",
              "    </tr>\n",
              "    <tr>\n",
              "      <th>4</th>\n",
              "      <td>5</td>\n",
              "      <td>66952.688845</td>\n",
              "      <td>18.584336</td>\n",
              "      <td>8770.099235</td>\n",
              "      <td>1</td>\n",
              "    </tr>\n",
              "  </tbody>\n",
              "</table>\n",
              "</div>"
            ],
            "text/plain": [
              "   i#clientid        income        age         loan  c#default\n",
              "0           1  66155.925095  59.017015  8106.532131          0\n",
              "1           2  34415.153966  48.117153  6564.745018          0\n",
              "2           3  57317.170063  63.108049  8020.953296          0\n",
              "3           4  42709.534201  45.751972  6103.642260          0\n",
              "4           5  66952.688845  18.584336  8770.099235          1"
            ]
          },
          "metadata": {
            "tags": []
          },
          "execution_count": 61
        }
      ]
    },
    {
      "cell_type": "code",
      "metadata": {
        "colab": {
          "base_uri": "https://localhost:8080/"
        },
        "id": "NweY4I5ambjA",
        "outputId": "31020bd2-7958-46a8-c3db-8ba2b5916f92"
      },
      "source": [
        "# pegando somente as colunas income, age e loan\r\n",
        "X=dataset_classificacao.iloc[:,1:4].values\r\n",
        "X"
      ],
      "execution_count": 62,
      "outputs": [
        {
          "output_type": "execute_result",
          "data": {
            "text/plain": [
              "array([[6.61559251e+04, 5.90170151e+01, 8.10653213e+03],\n",
              "       [3.44151540e+04, 4.81171531e+01, 6.56474502e+03],\n",
              "       [5.73171701e+04, 6.31080495e+01, 8.02095330e+03],\n",
              "       ...,\n",
              "       [4.43114493e+04, 2.80171669e+01, 5.52278669e+03],\n",
              "       [4.37560566e+04, 6.39717958e+01, 1.62272260e+03],\n",
              "       [6.94365796e+04, 5.61526170e+01, 7.37883360e+03]])"
            ]
          },
          "metadata": {
            "tags": []
          },
          "execution_count": 62
        }
      ]
    },
    {
      "cell_type": "code",
      "metadata": {
        "colab": {
          "base_uri": "https://localhost:8080/"
        },
        "id": "NWddFzWZmqJk",
        "outputId": "eefcd760-de3e-43e1-ee67-51706eebae6a"
      },
      "source": [
        "y=dataset_classificacao.iloc[:,4].values\r\n",
        "y"
      ],
      "execution_count": 63,
      "outputs": [
        {
          "output_type": "execute_result",
          "data": {
            "text/plain": [
              "array([0, 0, 0, ..., 1, 0, 0])"
            ]
          },
          "metadata": {
            "tags": []
          },
          "execution_count": 63
        }
      ]
    },
    {
      "cell_type": "code",
      "metadata": {
        "id": "3lDC08Dzm75e"
      },
      "source": [
        "from sklearn.model_selection import train_test_split\r\n",
        "from sklearn.naive_bayes import GaussianNB\r\n",
        "from sklearn.linear_model import LogisticRegression\r\n",
        "from sklearn.ensemble import RandomForestClassifier\r\n",
        "from sklearn.metrics import accuracy_score"
      ],
      "execution_count": 64,
      "outputs": []
    },
    {
      "cell_type": "code",
      "metadata": {
        "id": "vsByN2I3nc9y"
      },
      "source": [
        "resultados_naive_bayes=[]\r\n",
        "resultados_logistica=[]\r\n",
        "resultados_forest=[]\r\n",
        "\r\n",
        "for i in range(30): \r\n",
        "  X_treinamento, X_teste, y_treinamento, y_tste=train_test_split(X,y,test_size=0.2,stratify=y,random_state=i)\r\n",
        "\r\n",
        "  naive_bayes=GaussianNB()\r\n",
        "  naive_bayes.fit(X_treinamento,y_treinamento)\r\n",
        "  resultados_naive_bayes.append(accuracy_score(y_tste,naive_bayes.predict(X_teste)))  \r\n",
        "\r\n",
        "  logistica=LogisticRegression()\r\n",
        "  logistica.fit(X_treinamento,y_treinamento)\r\n",
        "  resultados_logistica.append(accuracy_score(y_tste,logistica.predict(X_teste)))  \r\n",
        "\r\n",
        "  random_forest=RandomForestClassifier()\r\n",
        "  random_forest.fit(X_treinamento,y_treinamento)\r\n",
        "  resultados_forest.append(accuracy_score(y_tste,random_forest.predict(X_teste)))  "
      ],
      "execution_count": 65,
      "outputs": []
    },
    {
      "cell_type": "code",
      "metadata": {
        "colab": {
          "base_uri": "https://localhost:8080/"
        },
        "id": "hMHSqrD6ppgz",
        "outputId": "b6e557bc-dee2-4a9f-84d1-41652146fd8c"
      },
      "source": [
        "print(resultados_naive_bayes)"
      ],
      "execution_count": 66,
      "outputs": [
        {
          "output_type": "stream",
          "text": [
            "[0.925, 0.925, 0.9325, 0.925, 0.92, 0.905, 0.9175, 0.9175, 0.9125, 0.9325, 0.9225, 0.9125, 0.935, 0.9175, 0.925, 0.9175, 0.9275, 0.92, 0.9325, 0.92, 0.93, 0.905, 0.9175, 0.9325, 0.9425, 0.9375, 0.94, 0.92, 0.935, 0.925]\n"
          ],
          "name": "stdout"
        }
      ]
    },
    {
      "cell_type": "code",
      "metadata": {
        "colab": {
          "base_uri": "https://localhost:8080/"
        },
        "id": "eJ0pIFwVptJu",
        "outputId": "45461a83-d6ff-4acd-8e15-6c8616e7b6dd"
      },
      "source": [
        "print(resultados_logistica)"
      ],
      "execution_count": 67,
      "outputs": [
        {
          "output_type": "stream",
          "text": [
            "[0.9325, 0.91, 0.9125, 0.9225, 0.9075, 0.89, 0.91, 0.9075, 0.8775, 0.915, 0.9175, 0.9, 0.925, 0.9175, 0.9025, 0.9125, 0.9525, 0.91, 0.9225, 0.9075, 0.925, 0.905, 0.9075, 0.945, 0.9225, 0.9275, 0.9225, 0.9175, 0.91, 0.9]\n"
          ],
          "name": "stdout"
        }
      ]
    },
    {
      "cell_type": "code",
      "metadata": {
        "colab": {
          "base_uri": "https://localhost:8080/"
        },
        "id": "2LENHzCcpyMj",
        "outputId": "97498bc2-eef7-491b-873b-b136282726cc"
      },
      "source": [
        "print(resultados_forest)"
      ],
      "execution_count": 68,
      "outputs": [
        {
          "output_type": "stream",
          "text": [
            "[0.975, 0.985, 0.975, 0.9925, 0.98, 0.9875, 0.9875, 0.975, 0.9775, 0.985, 0.98, 0.9825, 0.98, 0.9875, 0.98, 0.98, 0.985, 0.9825, 0.9925, 0.985, 0.98, 0.9775, 0.9775, 0.985, 0.9875, 0.995, 0.99, 0.9825, 0.9925, 0.99]\n"
          ],
          "name": "stdout"
        }
      ]
    },
    {
      "cell_type": "code",
      "metadata": {
        "id": "uSuSAX67p07P"
      },
      "source": [
        "resultados_forest=np.array(resultados_forest)\r\n",
        "resultados_logistica=np.array(resultados_logistica)\r\n",
        "resultados_naive_bayes=np.array(resultados_naive_bayes)"
      ],
      "execution_count": 69,
      "outputs": []
    },
    {
      "cell_type": "code",
      "metadata": {
        "colab": {
          "base_uri": "https://localhost:8080/"
        },
        "id": "UIDwt07TqX-4",
        "outputId": "ff281aac-320a-449e-8010-f30cf55efc41"
      },
      "source": [
        "resultados_forest.mean(),resultados_naive_bayes.mean(),resultados_logistica.mean()"
      ],
      "execution_count": 70,
      "outputs": [
        {
          "output_type": "execute_result",
          "data": {
            "text/plain": [
              "(0.9837500000000001, 0.92425, 0.9145)"
            ]
          },
          "metadata": {
            "tags": []
          },
          "execution_count": 70
        }
      ]
    },
    {
      "cell_type": "code",
      "metadata": {
        "colab": {
          "base_uri": "https://localhost:8080/"
        },
        "id": "_g8lg_v_qj5_",
        "outputId": "5cb69c04-67c3-40a5-8821-9e5dc7a4c7ad"
      },
      "source": [
        "stats.mode(resultados_forest)[0][0],stats.mode(resultados_naive_bayes)[0][0],stats.mode(resultados_logistica)[0][0]\r\n"
      ],
      "execution_count": 71,
      "outputs": [
        {
          "output_type": "execute_result",
          "data": {
            "text/plain": [
              "(0.98, 0.9175, 0.9075)"
            ]
          },
          "metadata": {
            "tags": []
          },
          "execution_count": 71
        }
      ]
    },
    {
      "cell_type": "code",
      "metadata": {
        "colab": {
          "base_uri": "https://localhost:8080/"
        },
        "id": "PP4l_ekvrQC1",
        "outputId": "1604db8a-d609-43ff-edef-5820430b8446"
      },
      "source": [
        "np.median(resultados_forest),np.median(resultados_logistica),np.median(resultados_naive_bayes)"
      ],
      "execution_count": 72,
      "outputs": [
        {
          "output_type": "execute_result",
          "data": {
            "text/plain": [
              "(0.98375, 0.9125, 0.925)"
            ]
          },
          "metadata": {
            "tags": []
          },
          "execution_count": 72
        }
      ]
    },
    {
      "cell_type": "code",
      "metadata": {
        "colab": {
          "base_uri": "https://localhost:8080/"
        },
        "id": "z1N1rli3r6Mz",
        "outputId": "ca7d7c45-9e0d-4463-e35f-b7d8dab3b087"
      },
      "source": [
        "np.var(resultados_forest),np.var(resultados_logistica),np.var(resultados_naive_bayes)"
      ],
      "execution_count": 73,
      "outputs": [
        {
          "output_type": "execute_result",
          "data": {
            "text/plain": [
              "(3.114583333333346e-05, 0.00020933333333333337, 8.756250000000001e-05)"
            ]
          },
          "metadata": {
            "tags": []
          },
          "execution_count": 73
        }
      ]
    },
    {
      "cell_type": "code",
      "metadata": {
        "colab": {
          "base_uri": "https://localhost:8080/"
        },
        "id": "O78eCdi1sdI7",
        "outputId": "ca24deb7-88e7-4f2a-d772-7ede9d055c42"
      },
      "source": [
        "np.std(resultados_forest),np.std(resultados_logistica),np.std(resultados_naive_bayes)"
      ],
      "execution_count": 74,
      "outputs": [
        {
          "output_type": "execute_result",
          "data": {
            "text/plain": [
              "(0.005580845216751084, 0.014468356276140472, 0.00935748363610645)"
            ]
          },
          "metadata": {
            "tags": []
          },
          "execution_count": 74
        }
      ]
    },
    {
      "cell_type": "code",
      "metadata": {
        "colab": {
          "base_uri": "https://localhost:8080/"
        },
        "id": "ESGA634fstVA",
        "outputId": "f62dfd14-2f88-47ef-f52b-3b39544d35f7"
      },
      "source": [
        "stats.variation(resultados_forest)*100,stats.variation(resultados_logistica)*100,stats.variation(resultados_naive_bayes)*100"
      ],
      "execution_count": 75,
      "outputs": [
        {
          "output_type": "execute_result",
          "data": {
            "text/plain": [
              "(0.5673031986532232, 1.5821056616884057, 1.0124407504578252)"
            ]
          },
          "metadata": {
            "tags": []
          },
          "execution_count": 75
        }
      ]
    },
    {
      "cell_type": "markdown",
      "metadata": {
        "id": "FK6X9SNPuzQJ"
      },
      "source": [
        "### Validação cruzada - K-fold Cross validation"
      ]
    },
    {
      "cell_type": "code",
      "metadata": {
        "id": "SzJpYQC6vQSO"
      },
      "source": [
        "from sklearn.model_selection import cross_val_score,KFold"
      ],
      "execution_count": 76,
      "outputs": []
    },
    {
      "cell_type": "code",
      "metadata": {
        "id": "D7jPnV0PteZN"
      },
      "source": [
        "resultados_naive_bayes_cv=[]\r\n",
        "resultados_logistica_cv=[]\r\n",
        "resultados_forest_cv=[]\r\n",
        "\r\n",
        "for i in range(30): \r\n",
        "  kfold=KFold(n_splits=10,shuffle=True,random_state=i)\r\n",
        "  \r\n",
        "  naive_bayes=GaussianNB()\r\n",
        "  scores=cross_val_score(naive_bayes,X,y,cv=kfold)\r\n",
        "  resultados_naive_bayes_cv.append(scores.mean())\r\n",
        "\r\n",
        "  logistica=LogisticRegression()\r\n",
        "  scores=cross_val_score(logistica,X,y,cv=kfold)\r\n",
        "  resultados_logistica_cv.append(scores.mean())\r\n",
        "\r\n",
        "  random_forest=RandomForestClassifier()\r\n",
        "  scores=cross_val_score(random_forest,X,y,cv=kfold)\r\n",
        "  resultados_forest_cv.append(scores.mean())"
      ],
      "execution_count": 77,
      "outputs": []
    },
    {
      "cell_type": "code",
      "metadata": {
        "colab": {
          "base_uri": "https://localhost:8080/"
        },
        "id": "jzRQzfvZv8o2",
        "outputId": "729198f5-24f4-44e0-f9ed-dfc415e17e5a"
      },
      "source": [
        "stats.variation(resultados_forest_cv)*100,stats.variation(resultados_logistica_cv)*100,stats.variation(resultados_naive_bayes_cv)*100"
      ],
      "execution_count": 78,
      "outputs": [
        {
          "output_type": "execute_result",
          "data": {
            "text/plain": [
              "(0.1952133090514193, 0.38801026116292653, 0.08641071566366061)"
            ]
          },
          "metadata": {
            "tags": []
          },
          "execution_count": 78
        }
      ]
    },
    {
      "cell_type": "markdown",
      "metadata": {
        "id": "Y0D3nv3vxfkg"
      },
      "source": [
        "utilizando validação cruzada, os resultados do naive bayes tiveram menor dispersão que o random forest, resultado contrário do que foi observado ao realizar a amostragem padrão dos dados entre grupos de testes e grupos de treinamento"
      ]
    },
    {
      "cell_type": "markdown",
      "metadata": {
        "id": "hiaOhLw3x_m_"
      },
      "source": [
        "## Seleção de atributos utilizando variancia"
      ]
    },
    {
      "cell_type": "code",
      "metadata": {
        "colab": {
          "base_uri": "https://localhost:8080/"
        },
        "id": "5uMPGp2mxZ0k",
        "outputId": "8bfb44a6-db66-4622-cb6d-3c1db9e28f42"
      },
      "source": [
        "np.random.rand(50)"
      ],
      "execution_count": 79,
      "outputs": [
        {
          "output_type": "execute_result",
          "data": {
            "text/plain": [
              "array([0.41263407, 0.76291343, 0.70172217, 0.99467046, 0.62186961,\n",
              "       0.91345385, 0.93950612, 0.57447177, 0.45351508, 0.17685275,\n",
              "       0.45555992, 0.90370662, 0.35320211, 0.79986205, 0.09652846,\n",
              "       0.25405617, 0.4077078 , 0.24801776, 0.76388427, 0.35656903,\n",
              "       0.63890161, 0.86152479, 0.6808914 , 0.23224023, 0.70197185,\n",
              "       0.47462768, 0.12778312, 0.70891444, 0.0836387 , 0.85367553,\n",
              "       0.28320973, 0.29034987, 0.71821015, 0.59979379, 0.01343622,\n",
              "       0.28936184, 0.32865769, 0.47822277, 0.81123067, 0.21238512,\n",
              "       0.27510491, 0.24573506, 0.75723439, 0.94401991, 0.86186408,\n",
              "       0.26391086, 0.67975017, 0.55950002, 0.20044692, 0.72828333])"
            ]
          },
          "metadata": {
            "tags": []
          },
          "execution_count": 79
        }
      ]
    },
    {
      "cell_type": "code",
      "metadata": {
        "id": "pKL8DaU4yGzs"
      },
      "source": [
        "base_selecao={'a':np.random.rand(20),\r\n",
        "              'b':np.array([0.5]*20),\r\n",
        "              'classe':np.random.randint(0,2,size=20)}"
      ],
      "execution_count": 80,
      "outputs": []
    },
    {
      "cell_type": "code",
      "metadata": {
        "colab": {
          "base_uri": "https://localhost:8080/"
        },
        "id": "yXQuP3EM3RgC",
        "outputId": "ea5fb2ec-db4a-4034-c0d4-463c6f27380c"
      },
      "source": [
        "base_selecao"
      ],
      "execution_count": 81,
      "outputs": [
        {
          "output_type": "execute_result",
          "data": {
            "text/plain": [
              "{'a': array([0.28469559, 0.93445841, 0.94637309, 0.51936873, 0.38873385,\n",
              "        0.43652409, 0.47495783, 0.09135232, 0.61370455, 0.58541349,\n",
              "        0.84313149, 0.70316707, 0.5657728 , 0.71238318, 0.47898763,\n",
              "        0.29792617, 0.80032909, 0.64304201, 0.88025954, 0.90351991]),\n",
              " 'b': array([0.5, 0.5, 0.5, 0.5, 0.5, 0.5, 0.5, 0.5, 0.5, 0.5, 0.5, 0.5, 0.5,\n",
              "        0.5, 0.5, 0.5, 0.5, 0.5, 0.5, 0.5]),\n",
              " 'classe': array([1, 0, 1, 1, 0, 1, 0, 1, 0, 0, 1, 1, 0, 0, 1, 1, 1, 1, 0, 0])}"
            ]
          },
          "metadata": {
            "tags": []
          },
          "execution_count": 81
        }
      ]
    },
    {
      "cell_type": "code",
      "metadata": {
        "colab": {
          "base_uri": "https://localhost:8080/",
          "height": 197
        },
        "id": "rEZn3hzl3hLh",
        "outputId": "d1c7a3ff-8e9b-4aea-a00f-7752df5de5bb"
      },
      "source": [
        "df=pd.DataFrame(base_selecao)\r\n",
        "df.head()"
      ],
      "execution_count": 82,
      "outputs": [
        {
          "output_type": "execute_result",
          "data": {
            "text/html": [
              "<div>\n",
              "<style scoped>\n",
              "    .dataframe tbody tr th:only-of-type {\n",
              "        vertical-align: middle;\n",
              "    }\n",
              "\n",
              "    .dataframe tbody tr th {\n",
              "        vertical-align: top;\n",
              "    }\n",
              "\n",
              "    .dataframe thead th {\n",
              "        text-align: right;\n",
              "    }\n",
              "</style>\n",
              "<table border=\"1\" class=\"dataframe\">\n",
              "  <thead>\n",
              "    <tr style=\"text-align: right;\">\n",
              "      <th></th>\n",
              "      <th>a</th>\n",
              "      <th>b</th>\n",
              "      <th>classe</th>\n",
              "    </tr>\n",
              "  </thead>\n",
              "  <tbody>\n",
              "    <tr>\n",
              "      <th>0</th>\n",
              "      <td>0.284696</td>\n",
              "      <td>0.5</td>\n",
              "      <td>1</td>\n",
              "    </tr>\n",
              "    <tr>\n",
              "      <th>1</th>\n",
              "      <td>0.934458</td>\n",
              "      <td>0.5</td>\n",
              "      <td>0</td>\n",
              "    </tr>\n",
              "    <tr>\n",
              "      <th>2</th>\n",
              "      <td>0.946373</td>\n",
              "      <td>0.5</td>\n",
              "      <td>1</td>\n",
              "    </tr>\n",
              "    <tr>\n",
              "      <th>3</th>\n",
              "      <td>0.519369</td>\n",
              "      <td>0.5</td>\n",
              "      <td>1</td>\n",
              "    </tr>\n",
              "    <tr>\n",
              "      <th>4</th>\n",
              "      <td>0.388734</td>\n",
              "      <td>0.5</td>\n",
              "      <td>0</td>\n",
              "    </tr>\n",
              "  </tbody>\n",
              "</table>\n",
              "</div>"
            ],
            "text/plain": [
              "          a    b  classe\n",
              "0  0.284696  0.5       1\n",
              "1  0.934458  0.5       0\n",
              "2  0.946373  0.5       1\n",
              "3  0.519369  0.5       1\n",
              "4  0.388734  0.5       0"
            ]
          },
          "metadata": {
            "tags": []
          },
          "execution_count": 82
        }
      ]
    },
    {
      "cell_type": "code",
      "metadata": {
        "colab": {
          "base_uri": "https://localhost:8080/",
          "height": 287
        },
        "id": "zZg-l1M53xGa",
        "outputId": "ba644231-fee1-4c56-c3f8-e526bd7f169b"
      },
      "source": [
        "df.describe()"
      ],
      "execution_count": 83,
      "outputs": [
        {
          "output_type": "execute_result",
          "data": {
            "text/html": [
              "<div>\n",
              "<style scoped>\n",
              "    .dataframe tbody tr th:only-of-type {\n",
              "        vertical-align: middle;\n",
              "    }\n",
              "\n",
              "    .dataframe tbody tr th {\n",
              "        vertical-align: top;\n",
              "    }\n",
              "\n",
              "    .dataframe thead th {\n",
              "        text-align: right;\n",
              "    }\n",
              "</style>\n",
              "<table border=\"1\" class=\"dataframe\">\n",
              "  <thead>\n",
              "    <tr style=\"text-align: right;\">\n",
              "      <th></th>\n",
              "      <th>a</th>\n",
              "      <th>b</th>\n",
              "      <th>classe</th>\n",
              "    </tr>\n",
              "  </thead>\n",
              "  <tbody>\n",
              "    <tr>\n",
              "      <th>count</th>\n",
              "      <td>20.000000</td>\n",
              "      <td>20.0</td>\n",
              "      <td>20.000000</td>\n",
              "    </tr>\n",
              "    <tr>\n",
              "      <th>mean</th>\n",
              "      <td>0.605205</td>\n",
              "      <td>0.5</td>\n",
              "      <td>0.550000</td>\n",
              "    </tr>\n",
              "    <tr>\n",
              "      <th>std</th>\n",
              "      <td>0.239015</td>\n",
              "      <td>0.0</td>\n",
              "      <td>0.510418</td>\n",
              "    </tr>\n",
              "    <tr>\n",
              "      <th>min</th>\n",
              "      <td>0.091352</td>\n",
              "      <td>0.5</td>\n",
              "      <td>0.000000</td>\n",
              "    </tr>\n",
              "    <tr>\n",
              "      <th>25%</th>\n",
              "      <td>0.465349</td>\n",
              "      <td>0.5</td>\n",
              "      <td>0.000000</td>\n",
              "    </tr>\n",
              "    <tr>\n",
              "      <th>50%</th>\n",
              "      <td>0.599559</td>\n",
              "      <td>0.5</td>\n",
              "      <td>1.000000</td>\n",
              "    </tr>\n",
              "    <tr>\n",
              "      <th>75%</th>\n",
              "      <td>0.811030</td>\n",
              "      <td>0.5</td>\n",
              "      <td>1.000000</td>\n",
              "    </tr>\n",
              "    <tr>\n",
              "      <th>max</th>\n",
              "      <td>0.946373</td>\n",
              "      <td>0.5</td>\n",
              "      <td>1.000000</td>\n",
              "    </tr>\n",
              "  </tbody>\n",
              "</table>\n",
              "</div>"
            ],
            "text/plain": [
              "               a     b     classe\n",
              "count  20.000000  20.0  20.000000\n",
              "mean    0.605205   0.5   0.550000\n",
              "std     0.239015   0.0   0.510418\n",
              "min     0.091352   0.5   0.000000\n",
              "25%     0.465349   0.5   0.000000\n",
              "50%     0.599559   0.5   1.000000\n",
              "75%     0.811030   0.5   1.000000\n",
              "max     0.946373   0.5   1.000000"
            ]
          },
          "metadata": {
            "tags": []
          },
          "execution_count": 83
        }
      ]
    },
    {
      "cell_type": "code",
      "metadata": {
        "colab": {
          "base_uri": "https://localhost:8080/"
        },
        "id": "ZhgnpDfU33BP",
        "outputId": "aa875fa2-8b20-44fb-b69a-a228b623558c"
      },
      "source": [
        "np.var(df['a']),np.var(df['b']),"
      ],
      "execution_count": 84,
      "outputs": [
        {
          "output_type": "execute_result",
          "data": {
            "text/plain": [
              "(0.054271702728781915, 0.0)"
            ]
          },
          "metadata": {
            "tags": []
          },
          "execution_count": 84
        }
      ]
    },
    {
      "cell_type": "code",
      "metadata": {
        "id": "sYTs7QQr4Fwa"
      },
      "source": [
        "X=df.iloc[:,0:2].values"
      ],
      "execution_count": 85,
      "outputs": []
    },
    {
      "cell_type": "code",
      "metadata": {
        "colab": {
          "base_uri": "https://localhost:8080/"
        },
        "id": "uSfeZIWs4TqD",
        "outputId": "5340e464-986e-4d00-bf9d-441fab94d30f"
      },
      "source": [
        "X"
      ],
      "execution_count": 86,
      "outputs": [
        {
          "output_type": "execute_result",
          "data": {
            "text/plain": [
              "array([[0.28469559, 0.5       ],\n",
              "       [0.93445841, 0.5       ],\n",
              "       [0.94637309, 0.5       ],\n",
              "       [0.51936873, 0.5       ],\n",
              "       [0.38873385, 0.5       ],\n",
              "       [0.43652409, 0.5       ],\n",
              "       [0.47495783, 0.5       ],\n",
              "       [0.09135232, 0.5       ],\n",
              "       [0.61370455, 0.5       ],\n",
              "       [0.58541349, 0.5       ],\n",
              "       [0.84313149, 0.5       ],\n",
              "       [0.70316707, 0.5       ],\n",
              "       [0.5657728 , 0.5       ],\n",
              "       [0.71238318, 0.5       ],\n",
              "       [0.47898763, 0.5       ],\n",
              "       [0.29792617, 0.5       ],\n",
              "       [0.80032909, 0.5       ],\n",
              "       [0.64304201, 0.5       ],\n",
              "       [0.88025954, 0.5       ],\n",
              "       [0.90351991, 0.5       ]])"
            ]
          },
          "metadata": {
            "tags": []
          },
          "execution_count": 86
        }
      ]
    },
    {
      "cell_type": "code",
      "metadata": {
        "id": "9yxiQGTF4WcT"
      },
      "source": [
        "from sklearn.feature_selection import VarianceThreshold\r\n"
      ],
      "execution_count": 87,
      "outputs": []
    },
    {
      "cell_type": "code",
      "metadata": {
        "id": "ND2JgAiT4l4z",
        "colab": {
          "base_uri": "https://localhost:8080/",
          "height": 352
        },
        "outputId": "8dea3da3-04e3-47eb-8ee9-0377b4fb3e06"
      },
      "source": [
        "selecao=VarianceThreshold(threshold=0.07)\r\n",
        "X_novo=selecao.fit_transform(X)"
      ],
      "execution_count": 88,
      "outputs": [
        {
          "output_type": "error",
          "ename": "ValueError",
          "evalue": "ignored",
          "traceback": [
            "\u001b[0;31m---------------------------------------------------------------------------\u001b[0m",
            "\u001b[0;31mValueError\u001b[0m                                Traceback (most recent call last)",
            "\u001b[0;32m<ipython-input-88-c09ebe1a4833>\u001b[0m in \u001b[0;36m<module>\u001b[0;34m()\u001b[0m\n\u001b[1;32m      1\u001b[0m \u001b[0mselecao\u001b[0m\u001b[0;34m=\u001b[0m\u001b[0mVarianceThreshold\u001b[0m\u001b[0;34m(\u001b[0m\u001b[0mthreshold\u001b[0m\u001b[0;34m=\u001b[0m\u001b[0;36m0.07\u001b[0m\u001b[0;34m)\u001b[0m\u001b[0;34m\u001b[0m\u001b[0;34m\u001b[0m\u001b[0m\n\u001b[0;32m----> 2\u001b[0;31m \u001b[0mX_novo\u001b[0m\u001b[0;34m=\u001b[0m\u001b[0mselecao\u001b[0m\u001b[0;34m.\u001b[0m\u001b[0mfit_transform\u001b[0m\u001b[0;34m(\u001b[0m\u001b[0mX\u001b[0m\u001b[0;34m)\u001b[0m\u001b[0;34m\u001b[0m\u001b[0;34m\u001b[0m\u001b[0m\n\u001b[0m",
            "\u001b[0;32m/usr/local/lib/python3.7/dist-packages/sklearn/base.py\u001b[0m in \u001b[0;36mfit_transform\u001b[0;34m(self, X, y, **fit_params)\u001b[0m\n\u001b[1;32m    569\u001b[0m         \u001b[0;32mif\u001b[0m \u001b[0my\u001b[0m \u001b[0;32mis\u001b[0m \u001b[0;32mNone\u001b[0m\u001b[0;34m:\u001b[0m\u001b[0;34m\u001b[0m\u001b[0;34m\u001b[0m\u001b[0m\n\u001b[1;32m    570\u001b[0m             \u001b[0;31m# fit method of arity 1 (unsupervised transformation)\u001b[0m\u001b[0;34m\u001b[0m\u001b[0;34m\u001b[0m\u001b[0;34m\u001b[0m\u001b[0m\n\u001b[0;32m--> 571\u001b[0;31m             \u001b[0;32mreturn\u001b[0m \u001b[0mself\u001b[0m\u001b[0;34m.\u001b[0m\u001b[0mfit\u001b[0m\u001b[0;34m(\u001b[0m\u001b[0mX\u001b[0m\u001b[0;34m,\u001b[0m \u001b[0;34m**\u001b[0m\u001b[0mfit_params\u001b[0m\u001b[0;34m)\u001b[0m\u001b[0;34m.\u001b[0m\u001b[0mtransform\u001b[0m\u001b[0;34m(\u001b[0m\u001b[0mX\u001b[0m\u001b[0;34m)\u001b[0m\u001b[0;34m\u001b[0m\u001b[0;34m\u001b[0m\u001b[0m\n\u001b[0m\u001b[1;32m    572\u001b[0m         \u001b[0;32melse\u001b[0m\u001b[0;34m:\u001b[0m\u001b[0;34m\u001b[0m\u001b[0;34m\u001b[0m\u001b[0m\n\u001b[1;32m    573\u001b[0m             \u001b[0;31m# fit method of arity 2 (supervised transformation)\u001b[0m\u001b[0;34m\u001b[0m\u001b[0;34m\u001b[0m\u001b[0;34m\u001b[0m\u001b[0m\n",
            "\u001b[0;32m/usr/local/lib/python3.7/dist-packages/sklearn/feature_selection/_variance_threshold.py\u001b[0m in \u001b[0;36mfit\u001b[0;34m(self, X, y)\u001b[0m\n\u001b[1;32m     90\u001b[0m             \u001b[0;32mif\u001b[0m \u001b[0mX\u001b[0m\u001b[0;34m.\u001b[0m\u001b[0mshape\u001b[0m\u001b[0;34m[\u001b[0m\u001b[0;36m0\u001b[0m\u001b[0;34m]\u001b[0m \u001b[0;34m==\u001b[0m \u001b[0;36m1\u001b[0m\u001b[0;34m:\u001b[0m\u001b[0;34m\u001b[0m\u001b[0;34m\u001b[0m\u001b[0m\n\u001b[1;32m     91\u001b[0m                 \u001b[0mmsg\u001b[0m \u001b[0;34m+=\u001b[0m \u001b[0;34m\" (X contains only one sample)\"\u001b[0m\u001b[0;34m\u001b[0m\u001b[0;34m\u001b[0m\u001b[0m\n\u001b[0;32m---> 92\u001b[0;31m             \u001b[0;32mraise\u001b[0m \u001b[0mValueError\u001b[0m\u001b[0;34m(\u001b[0m\u001b[0mmsg\u001b[0m\u001b[0;34m.\u001b[0m\u001b[0mformat\u001b[0m\u001b[0;34m(\u001b[0m\u001b[0mself\u001b[0m\u001b[0;34m.\u001b[0m\u001b[0mthreshold\u001b[0m\u001b[0;34m)\u001b[0m\u001b[0;34m)\u001b[0m\u001b[0;34m\u001b[0m\u001b[0;34m\u001b[0m\u001b[0m\n\u001b[0m\u001b[1;32m     93\u001b[0m \u001b[0;34m\u001b[0m\u001b[0m\n\u001b[1;32m     94\u001b[0m         \u001b[0;32mreturn\u001b[0m \u001b[0mself\u001b[0m\u001b[0;34m\u001b[0m\u001b[0;34m\u001b[0m\u001b[0m\n",
            "\u001b[0;31mValueError\u001b[0m: No feature in X meets the variance threshold 0.07000"
          ]
        }
      ]
    },
    {
      "cell_type": "code",
      "metadata": {
        "id": "uVgLcsJ_4zBv"
      },
      "source": [
        "X_novo"
      ],
      "execution_count": null,
      "outputs": []
    },
    {
      "cell_type": "code",
      "metadata": {
        "id": "FKp5tgfA49GZ"
      },
      "source": [
        "selecao.variances_"
      ],
      "execution_count": null,
      "outputs": []
    },
    {
      "cell_type": "code",
      "metadata": {
        "id": "6cqAtUQF8r7x"
      },
      "source": [
        "indices=np.where(selecao.variances_>0.07)"
      ],
      "execution_count": null,
      "outputs": []
    },
    {
      "cell_type": "markdown",
      "metadata": {
        "id": "MLB1ykEH9dqp"
      },
      "source": [
        "Observar a variancia é relevante pois sua grandeza pode determinar se um atributo é relevante ou não ao caracterizar dados."
      ]
    },
    {
      "cell_type": "markdown",
      "metadata": {
        "id": "IesBnqjj-QnB"
      },
      "source": [
        "Selecionar dados com altos valores de variancia é importante para analisar a relevancia de determinada variavel."
      ]
    },
    {
      "cell_type": "markdown",
      "metadata": {
        "id": "rsf_ZgB4IAJ1"
      },
      "source": [
        "Fazendo a normalização dos dados"
      ]
    },
    {
      "cell_type": "code",
      "metadata": {
        "id": "zmqAubIb-QCC"
      },
      "source": [
        "# dataset_classificacao.dropna()\r\n",
        "# income=dataset_classificacao['income']\r\n",
        "# age=dataset_classificacao['age']\r\n",
        "# loan=dataset_classificacao['loan']\r\n",
        "lista_series=dataset_classificacao.iloc[:,1:4]\r\n",
        "\r\n",
        "from sklearn.preprocessing import MinMaxScaler\r\n",
        "scaler=MinMaxScaler()\r\n",
        "X=scaler.fit_transform(lista_series)\r\n",
        "pd.DataFrame(X)\r\n"
      ],
      "execution_count": null,
      "outputs": []
    },
    {
      "cell_type": "code",
      "metadata": {
        "id": "deFRYCN39Ez0"
      },
      "source": [
        "selecao=VarianceThreshold(0.07)\r\n",
        "novo_X=selecao.fit_transform(X)\r\n",
        "len(novo_X)"
      ],
      "execution_count": null,
      "outputs": []
    },
    {
      "cell_type": "code",
      "metadata": {
        "id": "px3-RafIIUwg"
      },
      "source": [
        "np.var(X[0]),np.var(X[1]),np.var(X[2])"
      ],
      "execution_count": null,
      "outputs": []
    },
    {
      "cell_type": "code",
      "metadata": {
        "id": "pQbQjaVEIfcl"
      },
      "source": [
        "selecao=VarianceThreshold(0.027)\r\n",
        "novo_X=selecao.fit_transform(X)\r\n",
        "novo_X"
      ],
      "execution_count": null,
      "outputs": []
    },
    {
      "cell_type": "code",
      "metadata": {
        "id": "FgHGocobI_cV"
      },
      "source": [
        ""
      ],
      "execution_count": null,
      "outputs": []
    },
    {
      "cell_type": "markdown",
      "metadata": {
        "id": "5ZEBtJrgJf8z"
      },
      "source": [
        "## Tratando dados faltantes inserindo media - variaveis qunatitativas"
      ]
    },
    {
      "cell_type": "code",
      "metadata": {
        "id": "5zuYBXRwJmj0"
      },
      "source": [
        "dataset_classificacao.isnull().sum()"
      ],
      "execution_count": null,
      "outputs": []
    },
    {
      "cell_type": "code",
      "metadata": {
        "id": "tcC0n7iiJqiz"
      },
      "source": [
        "nulos=dataset_classificacao[dataset_classificacao.isnull().any(axis=1)]\r\n",
        "nulos"
      ],
      "execution_count": null,
      "outputs": []
    },
    {
      "cell_type": "code",
      "metadata": {
        "id": "cXG5lZuMKBzl"
      },
      "source": [
        "media_idade=dataset_classificacao['age'].mean()\r\n",
        "dataset_classificacao['age']=dataset_classificacao['age'].replace(to_replace=np.nan,value=media_idade)\r\n",
        "dataset_classificacao.isnull().sum()"
      ],
      "execution_count": null,
      "outputs": []
    },
    {
      "cell_type": "markdown",
      "metadata": {
        "id": "zECXMzYTLiJH"
      },
      "source": [
        "## Tratando dados faltantes inserindo moda - variaveis qualitativas"
      ]
    },
    {
      "cell_type": "code",
      "metadata": {
        "id": "RT4FOtTfLR9a"
      },
      "source": [
        "autos=pd.read_csv(\"/content/drive/My Drive/autos.csv\",encoding='ISO-8859-1')"
      ],
      "execution_count": 90,
      "outputs": []
    },
    {
      "cell_type": "code",
      "metadata": {
        "colab": {
          "base_uri": "https://localhost:8080/"
        },
        "id": "oAqrs9v4R419",
        "outputId": "1e651274-a842-439c-b642-ef6220bd1b2d"
      },
      "source": [
        "autos.isnull().sum()"
      ],
      "execution_count": 92,
      "outputs": [
        {
          "output_type": "execute_result",
          "data": {
            "text/plain": [
              "dateCrawled                0\n",
              "name                       0\n",
              "seller                     0\n",
              "offerType                  0\n",
              "price                      0\n",
              "abtest                     0\n",
              "vehicleType            37869\n",
              "yearOfRegistration         0\n",
              "gearbox                20209\n",
              "powerPS                    0\n",
              "model                  20484\n",
              "kilometer                  0\n",
              "monthOfRegistration        0\n",
              "fuelType               33386\n",
              "brand                      0\n",
              "notRepairedDamage      72060\n",
              "dateCreated                0\n",
              "nrOfPictures               0\n",
              "postalCode                 0\n",
              "lastSeen                   0\n",
              "dtype: int64"
            ]
          },
          "metadata": {
            "tags": []
          },
          "execution_count": 92
        }
      ]
    },
    {
      "cell_type": "code",
      "metadata": {
        "colab": {
          "base_uri": "https://localhost:8080/"
        },
        "id": "9BhypndeSLIa",
        "outputId": "629ca753-f7d1-40ea-bb69-1ed71b996ced"
      },
      "source": [
        "autos['fuelType'].unique()"
      ],
      "execution_count": 94,
      "outputs": [
        {
          "output_type": "execute_result",
          "data": {
            "text/plain": [
              "array(['benzin', 'diesel', nan, 'lpg', 'andere', 'hybrid', 'cng',\n",
              "       'elektro'], dtype=object)"
            ]
          },
          "metadata": {
            "tags": []
          },
          "execution_count": 94
        }
      ]
    },
    {
      "cell_type": "code",
      "metadata": {
        "colab": {
          "base_uri": "https://localhost:8080/"
        },
        "id": "iEbUCFuPSZmj",
        "outputId": "b117b07e-a06f-4e97-8e0c-5dc91cafbcf1"
      },
      "source": [
        "stats.mode(autos['fuelType'])"
      ],
      "execution_count": 96,
      "outputs": [
        {
          "output_type": "execute_result",
          "data": {
            "text/plain": [
              "ModeResult(mode=array(['benzin'], dtype=object), count=array([223857]))"
            ]
          },
          "metadata": {
            "tags": []
          },
          "execution_count": 96
        }
      ]
    },
    {
      "cell_type": "code",
      "metadata": {
        "id": "Djgw-KyiSk6F"
      },
      "source": [
        "moda=statistics.mode(autos['fuelType'])\r\n",
        "autos['fuelType']=autos['fuelType'].replace(to_replace=np.nan,value=moda)"
      ],
      "execution_count": 101,
      "outputs": []
    },
    {
      "cell_type": "markdown",
      "metadata": {
        "id": "lF8zfh9UTEQS"
      },
      "source": [
        "Percebe-se que os dados faltante para o campo fuleType não estão mais presentes"
      ]
    },
    {
      "cell_type": "code",
      "metadata": {
        "colab": {
          "base_uri": "https://localhost:8080/"
        },
        "id": "ZQvG-TY4SrYM",
        "outputId": "433fc998-a764-4467-ab22-f99106cb95d3"
      },
      "source": [
        "autos['fuelType'].unique()"
      ],
      "execution_count": 102,
      "outputs": [
        {
          "output_type": "execute_result",
          "data": {
            "text/plain": [
              "array(['benzin', 'diesel', 'lpg', 'andere', 'hybrid', 'cng', 'elektro'],\n",
              "      dtype=object)"
            ]
          },
          "metadata": {
            "tags": []
          },
          "execution_count": 102
        }
      ]
    },
    {
      "cell_type": "code",
      "metadata": {
        "id": "8vRQ4ggVTB6A"
      },
      "source": [
        ""
      ],
      "execution_count": null,
      "outputs": []
    },
    {
      "cell_type": "markdown",
      "metadata": {
        "id": "pb-VsSVWdnyk"
      },
      "source": [
        "# Seção 7 - Probabilidade"
      ]
    },
    {
      "cell_type": "markdown",
      "metadata": {
        "id": "Gx9EySVdd774"
      },
      "source": [
        "Permutação: De quantas maneiras é possível produzir senhas com 5 caracteres, podendo-se utilizar 26 letras ou 10 digitos, sem que hajam repetições?"
      ]
    },
    {
      "cell_type": "code",
      "metadata": {
        "colab": {
          "base_uri": "https://localhost:8080/"
        },
        "id": "Bw5zmqhmdrp4",
        "outputId": "d627c91b-7105-42b0-f577-1235b216e2b2"
      },
      "source": [
        "tamanho=5\r\n",
        "caracteres=26+10\r\n",
        "\r\n",
        "espaco_amostral=math.factorial(caracteres)/math.factorial(caracteres-tamanho)\r\n",
        "\r\n",
        "print(f'existem ' + str(espaco_amostral) + ' senhas possiveis de serem geradas')"
      ],
      "execution_count": 108,
      "outputs": [
        {
          "output_type": "stream",
          "text": [
            "existem 45239040.0 senhas possiveis de serem geradas\n"
          ],
          "name": "stdout"
        }
      ]
    },
    {
      "cell_type": "markdown",
      "metadata": {
        "id": "DUJLisLWfOol"
      },
      "source": [
        "De quantas maneiras é possível produzir senhas com 5 caracteres, podendo-se utilizar 26 letras ou 10 digitos, podendo haver repetições?"
      ]
    },
    {
      "cell_type": "code",
      "metadata": {
        "colab": {
          "base_uri": "https://localhost:8080/"
        },
        "id": "a-AXgZV5elBS",
        "outputId": "07d5af46-cf94-446d-f333-30278f6d5144"
      },
      "source": [
        "tamanho=5\r\n",
        "caracteres=26+10\r\n",
        "\r\n",
        "espaco_amostral=math.pow(caracteres,tamanho)\r\n",
        "\r\n",
        "print(f'existem ' + str(espaco_amostral) + ' senhas possiveis de serem geradas')"
      ],
      "execution_count": 109,
      "outputs": [
        {
          "output_type": "stream",
          "text": [
            "existem 60466176.0 senhas possiveis de serem geradas\n"
          ],
          "name": "stdout"
        }
      ]
    },
    {
      "cell_type": "markdown",
      "metadata": {
        "id": "UqEiRsjHfci9"
      },
      "source": [
        "Combinação: Quantos arranjos de duas letras são possíveis de serem produzidos com as letras ABCDEF, sem importar a ordem e sem \r\n",
        "repetições."
      ]
    },
    {
      "cell_type": "code",
      "metadata": {
        "colab": {
          "base_uri": "https://localhost:8080/"
        },
        "id": "-UaOhloTfaLd",
        "outputId": "cff02bb8-b08f-4cfa-bc34-0c3abb686ebd"
      },
      "source": [
        "qnt_letras=6\r\n",
        "indice_combinacao=2\r\n",
        "\r\n",
        "combinacao=math.factorial(qnt_letras)/(math.factorial(indice_combinacao)*math.factorial(qnt_letras-indice_combinacao))\r\n",
        "\r\n",
        "print(f'existem ' + str(combinacao) + ' combinacoes possiveis de serem geradas')"
      ],
      "execution_count": 111,
      "outputs": [
        {
          "output_type": "stream",
          "text": [
            "existem 15.0 combinacoes possiveis de serem geradas\n"
          ],
          "name": "stdout"
        }
      ]
    },
    {
      "cell_type": "markdown",
      "metadata": {
        "id": "Rk6iLI-0gsAI"
      },
      "source": [
        "Combinação: Quantos arranjos de duas letras são possíveis de serem produzidos com as letras ABCDEF, sem importar a ordem e com repetições."
      ]
    },
    {
      "cell_type": "code",
      "metadata": {
        "colab": {
          "base_uri": "https://localhost:8080/"
        },
        "id": "4-FmJFlBgUJI",
        "outputId": "29d9245a-f628-45e2-9c6a-14c692340e99"
      },
      "source": [
        "qnt_letras=6\r\n",
        "indice_combinacao=2\r\n",
        "\r\n",
        "combinacao=math.factorial(qnt_letras+indice_combinacao-1)/(math.factorial(indice_combinacao)*math.factorial(qnt_letras-indice_combinacao))\r\n",
        "\r\n",
        "print(f'existem ' + str(combinacao) + ' combinacoes possiveis de serem geradas')"
      ],
      "execution_count": 114,
      "outputs": [
        {
          "output_type": "stream",
          "text": [
            "existem 105.0 combinacoes possiveis de serem geradas\n"
          ],
          "name": "stdout"
        }
      ]
    },
    {
      "cell_type": "markdown",
      "metadata": {
        "id": "P6L4yY4TnBlK"
      },
      "source": [
        "### Conjuntos em python"
      ]
    },
    {
      "cell_type": "code",
      "metadata": {
        "id": "9zUGWyH6g6Uh"
      },
      "source": [
        "a=(0,1,2,3,4,5,6,7)\r\n",
        "b=(0,2,4,6,8)"
      ],
      "execution_count": 115,
      "outputs": []
    },
    {
      "cell_type": "markdown",
      "metadata": {
        "id": "zYfaLononKv5"
      },
      "source": [
        "Interseção"
      ]
    },
    {
      "cell_type": "code",
      "metadata": {
        "colab": {
          "base_uri": "https://localhost:8080/"
        },
        "id": "60NrwOWPnIpY",
        "outputId": "b13d1bcb-f596-4c61-fe8a-c34e1ca3d119"
      },
      "source": [
        "set(a) and set(b)"
      ],
      "execution_count": 116,
      "outputs": [
        {
          "output_type": "execute_result",
          "data": {
            "text/plain": [
              "{0, 2, 4, 6, 8}"
            ]
          },
          "metadata": {
            "tags": []
          },
          "execution_count": 116
        }
      ]
    },
    {
      "cell_type": "markdown",
      "metadata": {
        "id": "JFE1IRjgnb-s"
      },
      "source": [
        "União"
      ]
    },
    {
      "cell_type": "code",
      "metadata": {
        "colab": {
          "base_uri": "https://localhost:8080/"
        },
        "id": "vtiMlG0nnaq8",
        "outputId": "9272c993-1e96-4605-8bc0-c8788e8ca709"
      },
      "source": [
        "set(a) | set(b)"
      ],
      "execution_count": 117,
      "outputs": [
        {
          "output_type": "execute_result",
          "data": {
            "text/plain": [
              "{0, 1, 2, 3, 4, 5, 6, 7, 8}"
            ]
          },
          "metadata": {
            "tags": []
          },
          "execution_count": 117
        }
      ]
    },
    {
      "cell_type": "markdown",
      "metadata": {
        "id": "e4i3g1PgniJx"
      },
      "source": [
        "Diferença"
      ]
    },
    {
      "cell_type": "code",
      "metadata": {
        "colab": {
          "base_uri": "https://localhost:8080/"
        },
        "id": "8vrjdNKqne_7",
        "outputId": "25cab0c6-6eed-40d3-917c-39923ab9afcc"
      },
      "source": [
        "set(a).difference(b)"
      ],
      "execution_count": 118,
      "outputs": [
        {
          "output_type": "execute_result",
          "data": {
            "text/plain": [
              "{1, 3, 5, 7}"
            ]
          },
          "metadata": {
            "tags": []
          },
          "execution_count": 118
        }
      ]
    },
    {
      "cell_type": "code",
      "metadata": {
        "colab": {
          "base_uri": "https://localhost:8080/"
        },
        "id": "dAIxCbOGnlWr",
        "outputId": "3d535f24-0613-4114-eec8-c59cfedb9b6d"
      },
      "source": [
        "set(b).difference(a)"
      ],
      "execution_count": 119,
      "outputs": [
        {
          "output_type": "execute_result",
          "data": {
            "text/plain": [
              "{8}"
            ]
          },
          "metadata": {
            "tags": []
          },
          "execution_count": 119
        }
      ]
    },
    {
      "cell_type": "markdown",
      "metadata": {
        "id": "4bxYFBtTnwve"
      },
      "source": [
        "### Eventos dependentes e independentes"
      ]
    },
    {
      "cell_type": "markdown",
      "metadata": {
        "id": "ucZofnnb0ljD"
      },
      "source": [
        "Em um grupo com 90 pessoas, 40 compraram livro de python, 3o de java e 20 compraram python e java. Ao escolher uma pessoas que compra de python, qual a probabilidade dela ter comprado java também?"
      ]
    },
    {
      "cell_type": "code",
      "metadata": {
        "id": "9e_H020Knn7S"
      },
      "source": [
        "# calcular a probabilidade da A dado B\r\n",
        "\r\n"
      ],
      "execution_count": null,
      "outputs": []
    },
    {
      "cell_type": "markdown",
      "metadata": {
        "id": "SbLtoOE31tUN"
      },
      "source": [
        "### Redes Bayesianas"
      ]
    },
    {
      "cell_type": "markdown",
      "metadata": {
        "id": "CX-YLWPD3J30"
      },
      "source": [
        "![redebayes.png](data:image/png;base64,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)"
      ]
    },
    {
      "cell_type": "code",
      "metadata": {
        "id": "uNDejAw_1xJj"
      },
      "source": [
        ""
      ],
      "execution_count": null,
      "outputs": []
    }
  ]
}